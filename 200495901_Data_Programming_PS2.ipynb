{
  "nbformat": 4,
  "nbformat_minor": 0,
  "metadata": {
    "colab": {
      "provenance": []
    },
    "kernelspec": {
      "name": "python3",
      "display_name": "Python 3"
    },
    "language_info": {
      "name": "python"
    }
  },
  "cells": [
    {
      "cell_type": "markdown",
      "source": [
        "Question 1"
      ],
      "metadata": {
        "id": "4qsY73CleZF6"
      }
    },
    {
      "cell_type": "code",
      "source": [
        "a=0\n",
        "def b():\n",
        "  global a\n",
        "  a=c(a)\n",
        "\n",
        "def c(a):\n",
        "  return a+2"
      ],
      "metadata": {
        "id": "YRabkDAEecUe"
      },
      "execution_count": 1,
      "outputs": []
    },
    {
      "cell_type": "code",
      "source": [
        "b()"
      ],
      "metadata": {
        "id": "p9wImvDdfSxI"
      },
      "execution_count": 2,
      "outputs": []
    },
    {
      "cell_type": "markdown",
      "source": [
        "The value 0 is assigned to the variable a. After the function b() is executed, function c(a) is executed which results in a=2."
      ],
      "metadata": {
        "id": "iQCdyCvKf3rX"
      }
    },
    {
      "cell_type": "code",
      "source": [
        "b()"
      ],
      "metadata": {
        "id": "wX9m91DPfYnQ"
      },
      "execution_count": 3,
      "outputs": []
    },
    {
      "cell_type": "markdown",
      "source": [
        "As a=2, when the function b() is executed, function c(a) is executed which results in a=4."
      ],
      "metadata": {
        "id": "8A4yD0_CgM7N"
      }
    },
    {
      "cell_type": "code",
      "source": [
        "b()"
      ],
      "metadata": {
        "id": "0HN8zEesfgYM"
      },
      "execution_count": 4,
      "outputs": []
    },
    {
      "cell_type": "markdown",
      "source": [
        "As a=4, when the function b() is executed, function c(a) is executed which results in a=6."
      ],
      "metadata": {
        "id": "PNJcNqdCgbNw"
      }
    },
    {
      "cell_type": "code",
      "source": [
        "a"
      ],
      "metadata": {
        "colab": {
          "base_uri": "https://localhost:8080/"
        },
        "id": "OFJ1Phupfjlt",
        "outputId": "5c045552-27ba-474f-a60a-a1c9c11fd6c3"
      },
      "execution_count": 5,
      "outputs": [
        {
          "output_type": "execute_result",
          "data": {
            "text/plain": [
              "6"
            ]
          },
          "metadata": {},
          "execution_count": 5
        }
      ]
    },
    {
      "cell_type": "markdown",
      "source": [
        "Question 2"
      ],
      "metadata": {
        "id": "UNZh9oDohHpZ"
      }
    },
    {
      "cell_type": "code",
      "source": [
        "def file_length(file_name):\n",
        "  try:\n",
        "    file = open(file_name)\n",
        "    contents = file.read()\n",
        "    file.close()\n",
        "    print(len(contents))\n",
        "\n",
        "  except:\n",
        "    print(\"File {} not found\".format(file_name))\n"
      ],
      "metadata": {
        "id": "jyzw-44GhJU_"
      },
      "execution_count": 7,
      "outputs": []
    },
    {
      "cell_type": "code",
      "source": [
        "from google.colab import files\n",
        "uploaded=files.upload()"
      ],
      "metadata": {
        "colab": {
          "base_uri": "https://localhost:8080/",
          "height": 73
        },
        "id": "86FNmAVPiq8P",
        "outputId": "a3fe82fc-72cc-49db-82a1-d6c8582b1f31"
      },
      "execution_count": 8,
      "outputs": [
        {
          "output_type": "display_data",
          "data": {
            "text/plain": [
              "<IPython.core.display.HTML object>"
            ],
            "text/html": [
              "\n",
              "     <input type=\"file\" id=\"files-32fa75cb-b823-44da-8ff4-a146973248d7\" name=\"files[]\" multiple disabled\n",
              "        style=\"border:none\" />\n",
              "     <output id=\"result-32fa75cb-b823-44da-8ff4-a146973248d7\">\n",
              "      Upload widget is only available when the cell has been executed in the\n",
              "      current browser session. Please rerun this cell to enable.\n",
              "      </output>\n",
              "      <script>// Copyright 2017 Google LLC\n",
              "//\n",
              "// Licensed under the Apache License, Version 2.0 (the \"License\");\n",
              "// you may not use this file except in compliance with the License.\n",
              "// You may obtain a copy of the License at\n",
              "//\n",
              "//      http://www.apache.org/licenses/LICENSE-2.0\n",
              "//\n",
              "// Unless required by applicable law or agreed to in writing, software\n",
              "// distributed under the License is distributed on an \"AS IS\" BASIS,\n",
              "// WITHOUT WARRANTIES OR CONDITIONS OF ANY KIND, either express or implied.\n",
              "// See the License for the specific language governing permissions and\n",
              "// limitations under the License.\n",
              "\n",
              "/**\n",
              " * @fileoverview Helpers for google.colab Python module.\n",
              " */\n",
              "(function(scope) {\n",
              "function span(text, styleAttributes = {}) {\n",
              "  const element = document.createElement('span');\n",
              "  element.textContent = text;\n",
              "  for (const key of Object.keys(styleAttributes)) {\n",
              "    element.style[key] = styleAttributes[key];\n",
              "  }\n",
              "  return element;\n",
              "}\n",
              "\n",
              "// Max number of bytes which will be uploaded at a time.\n",
              "const MAX_PAYLOAD_SIZE = 100 * 1024;\n",
              "\n",
              "function _uploadFiles(inputId, outputId) {\n",
              "  const steps = uploadFilesStep(inputId, outputId);\n",
              "  const outputElement = document.getElementById(outputId);\n",
              "  // Cache steps on the outputElement to make it available for the next call\n",
              "  // to uploadFilesContinue from Python.\n",
              "  outputElement.steps = steps;\n",
              "\n",
              "  return _uploadFilesContinue(outputId);\n",
              "}\n",
              "\n",
              "// This is roughly an async generator (not supported in the browser yet),\n",
              "// where there are multiple asynchronous steps and the Python side is going\n",
              "// to poll for completion of each step.\n",
              "// This uses a Promise to block the python side on completion of each step,\n",
              "// then passes the result of the previous step as the input to the next step.\n",
              "function _uploadFilesContinue(outputId) {\n",
              "  const outputElement = document.getElementById(outputId);\n",
              "  const steps = outputElement.steps;\n",
              "\n",
              "  const next = steps.next(outputElement.lastPromiseValue);\n",
              "  return Promise.resolve(next.value.promise).then((value) => {\n",
              "    // Cache the last promise value to make it available to the next\n",
              "    // step of the generator.\n",
              "    outputElement.lastPromiseValue = value;\n",
              "    return next.value.response;\n",
              "  });\n",
              "}\n",
              "\n",
              "/**\n",
              " * Generator function which is called between each async step of the upload\n",
              " * process.\n",
              " * @param {string} inputId Element ID of the input file picker element.\n",
              " * @param {string} outputId Element ID of the output display.\n",
              " * @return {!Iterable<!Object>} Iterable of next steps.\n",
              " */\n",
              "function* uploadFilesStep(inputId, outputId) {\n",
              "  const inputElement = document.getElementById(inputId);\n",
              "  inputElement.disabled = false;\n",
              "\n",
              "  const outputElement = document.getElementById(outputId);\n",
              "  outputElement.innerHTML = '';\n",
              "\n",
              "  const pickedPromise = new Promise((resolve) => {\n",
              "    inputElement.addEventListener('change', (e) => {\n",
              "      resolve(e.target.files);\n",
              "    });\n",
              "  });\n",
              "\n",
              "  const cancel = document.createElement('button');\n",
              "  inputElement.parentElement.appendChild(cancel);\n",
              "  cancel.textContent = 'Cancel upload';\n",
              "  const cancelPromise = new Promise((resolve) => {\n",
              "    cancel.onclick = () => {\n",
              "      resolve(null);\n",
              "    };\n",
              "  });\n",
              "\n",
              "  // Wait for the user to pick the files.\n",
              "  const files = yield {\n",
              "    promise: Promise.race([pickedPromise, cancelPromise]),\n",
              "    response: {\n",
              "      action: 'starting',\n",
              "    }\n",
              "  };\n",
              "\n",
              "  cancel.remove();\n",
              "\n",
              "  // Disable the input element since further picks are not allowed.\n",
              "  inputElement.disabled = true;\n",
              "\n",
              "  if (!files) {\n",
              "    return {\n",
              "      response: {\n",
              "        action: 'complete',\n",
              "      }\n",
              "    };\n",
              "  }\n",
              "\n",
              "  for (const file of files) {\n",
              "    const li = document.createElement('li');\n",
              "    li.append(span(file.name, {fontWeight: 'bold'}));\n",
              "    li.append(span(\n",
              "        `(${file.type || 'n/a'}) - ${file.size} bytes, ` +\n",
              "        `last modified: ${\n",
              "            file.lastModifiedDate ? file.lastModifiedDate.toLocaleDateString() :\n",
              "                                    'n/a'} - `));\n",
              "    const percent = span('0% done');\n",
              "    li.appendChild(percent);\n",
              "\n",
              "    outputElement.appendChild(li);\n",
              "\n",
              "    const fileDataPromise = new Promise((resolve) => {\n",
              "      const reader = new FileReader();\n",
              "      reader.onload = (e) => {\n",
              "        resolve(e.target.result);\n",
              "      };\n",
              "      reader.readAsArrayBuffer(file);\n",
              "    });\n",
              "    // Wait for the data to be ready.\n",
              "    let fileData = yield {\n",
              "      promise: fileDataPromise,\n",
              "      response: {\n",
              "        action: 'continue',\n",
              "      }\n",
              "    };\n",
              "\n",
              "    // Use a chunked sending to avoid message size limits. See b/62115660.\n",
              "    let position = 0;\n",
              "    do {\n",
              "      const length = Math.min(fileData.byteLength - position, MAX_PAYLOAD_SIZE);\n",
              "      const chunk = new Uint8Array(fileData, position, length);\n",
              "      position += length;\n",
              "\n",
              "      const base64 = btoa(String.fromCharCode.apply(null, chunk));\n",
              "      yield {\n",
              "        response: {\n",
              "          action: 'append',\n",
              "          file: file.name,\n",
              "          data: base64,\n",
              "        },\n",
              "      };\n",
              "\n",
              "      let percentDone = fileData.byteLength === 0 ?\n",
              "          100 :\n",
              "          Math.round((position / fileData.byteLength) * 100);\n",
              "      percent.textContent = `${percentDone}% done`;\n",
              "\n",
              "    } while (position < fileData.byteLength);\n",
              "  }\n",
              "\n",
              "  // All done.\n",
              "  yield {\n",
              "    response: {\n",
              "      action: 'complete',\n",
              "    }\n",
              "  };\n",
              "}\n",
              "\n",
              "scope.google = scope.google || {};\n",
              "scope.google.colab = scope.google.colab || {};\n",
              "scope.google.colab._files = {\n",
              "  _uploadFiles,\n",
              "  _uploadFilesContinue,\n",
              "};\n",
              "})(self);\n",
              "</script> "
            ]
          },
          "metadata": {}
        },
        {
          "output_type": "stream",
          "name": "stdout",
          "text": [
            "Saving SpotifyDataset.csv to SpotifyDataset.csv\n"
          ]
        }
      ]
    },
    {
      "cell_type": "code",
      "source": [
        "file_length('spotify-dataset.py')"
      ],
      "metadata": {
        "colab": {
          "base_uri": "https://localhost:8080/"
        },
        "id": "v429SzyemGi-",
        "outputId": "b0c272e0-9d50-457a-8e80-ae34289b7ea1"
      },
      "execution_count": 9,
      "outputs": [
        {
          "output_type": "stream",
          "name": "stdout",
          "text": [
            "File spotify-dataset.py not found\n"
          ]
        }
      ]
    },
    {
      "cell_type": "code",
      "source": [
        "file_length('SpotifyDataset.csv')"
      ],
      "metadata": {
        "colab": {
          "base_uri": "https://localhost:8080/"
        },
        "id": "GKuh4kckmQCN",
        "outputId": "8fd8162e-044e-4d1c-aa02-831327d02f75"
      },
      "execution_count": 10,
      "outputs": [
        {
          "output_type": "stream",
          "name": "stdout",
          "text": [
            "1032784\n"
          ]
        }
      ]
    },
    {
      "cell_type": "markdown",
      "source": [
        "Question 3"
      ],
      "metadata": {
        "id": "C7mzarE7nAKD"
      }
    },
    {
      "cell_type": "code",
      "source": [
        "class Marsupial:\n",
        "\n",
        "  c=[]\n",
        "\n",
        "  def __init__(self):\n",
        "      self.c=[]\n",
        "\n",
        "  def put_in_pouch(self,item):\n",
        "      self.c.append(item)\n",
        "\n",
        "  def pouch_contents(self):\n",
        "      return self.c"
      ],
      "metadata": {
        "id": "oitCDt3XmXfc"
      },
      "execution_count": 17,
      "outputs": []
    },
    {
      "cell_type": "code",
      "source": [
        "m=Marsupial()"
      ],
      "metadata": {
        "id": "2N5pEJgkn_iI"
      },
      "execution_count": 18,
      "outputs": []
    },
    {
      "cell_type": "code",
      "source": [
        "m.put_in_pouch('doll')"
      ],
      "metadata": {
        "id": "Xwx38uRzoFls"
      },
      "execution_count": 19,
      "outputs": []
    },
    {
      "cell_type": "code",
      "source": [
        "m.put_in_pouch('firetruck')"
      ],
      "metadata": {
        "id": "42X7tEXLoXA5"
      },
      "execution_count": 20,
      "outputs": []
    },
    {
      "cell_type": "code",
      "source": [
        "m.put_in_pouch('kitten')"
      ],
      "metadata": {
        "id": "NDXTulKBogj8"
      },
      "execution_count": 21,
      "outputs": []
    },
    {
      "cell_type": "code",
      "source": [
        "m.pouch_contents()"
      ],
      "metadata": {
        "colab": {
          "base_uri": "https://localhost:8080/"
        },
        "id": "K8W2QWn8on1C",
        "outputId": "dad4f261-41cf-41d0-b31b-639b9074014b"
      },
      "execution_count": 23,
      "outputs": [
        {
          "output_type": "execute_result",
          "data": {
            "text/plain": [
              "['doll', 'firetruck', 'kitten']"
            ]
          },
          "metadata": {},
          "execution_count": 23
        }
      ]
    },
    {
      "cell_type": "code",
      "source": [
        "class Kangaroo(Marsupial):\n",
        "  def __init__(self,x,y):\n",
        "    self.x=x\n",
        "    self.y=y\n",
        "\n",
        "  def jump(self,dx,dy):\n",
        "    self.x=self.x+dx\n",
        "    self.y=self.y+dx\n",
        "\n",
        "  def __str__ (self):\n",
        "    return \"I am a Kangaroo located at coordinates ({}.{})\".format(self.x,self.y)"
      ],
      "metadata": {
        "id": "keUrf5m8pt0G"
      },
      "execution_count": 24,
      "outputs": []
    },
    {
      "cell_type": "code",
      "source": [
        "k=Kangaroo(0,0)"
      ],
      "metadata": {
        "id": "wnbp9XfCsWI3"
      },
      "execution_count": 25,
      "outputs": []
    },
    {
      "cell_type": "code",
      "source": [
        "print(k)"
      ],
      "metadata": {
        "colab": {
          "base_uri": "https://localhost:8080/"
        },
        "id": "LBgaNoPisc7i",
        "outputId": "a137b1b4-cc6a-45a2-be2f-f1ddb25e0bba"
      },
      "execution_count": 26,
      "outputs": [
        {
          "output_type": "stream",
          "name": "stdout",
          "text": [
            "I am a Kangaroo located at coordinates (0.0)\n"
          ]
        }
      ]
    },
    {
      "cell_type": "code",
      "source": [
        "k.put_in_pouch('doll')"
      ],
      "metadata": {
        "id": "-9RhtHkbskdq"
      },
      "execution_count": 27,
      "outputs": []
    },
    {
      "cell_type": "code",
      "source": [
        "k.put_in_pouch('firetruck')"
      ],
      "metadata": {
        "id": "pT6X86Uwsx6m"
      },
      "execution_count": 28,
      "outputs": []
    },
    {
      "cell_type": "code",
      "source": [
        "k.put_in_pouch('kitten')"
      ],
      "metadata": {
        "id": "Vx0HUeC2s59s"
      },
      "execution_count": 29,
      "outputs": []
    },
    {
      "cell_type": "code",
      "source": [
        "k.pouch_contents()"
      ],
      "metadata": {
        "colab": {
          "base_uri": "https://localhost:8080/"
        },
        "id": "54CglgditfxJ",
        "outputId": "0d6f8312-1f4a-4275-ee10-bec7410c46c3"
      },
      "execution_count": 30,
      "outputs": [
        {
          "output_type": "execute_result",
          "data": {
            "text/plain": [
              "['doll', 'firetruck', 'kitten']"
            ]
          },
          "metadata": {},
          "execution_count": 30
        }
      ]
    },
    {
      "cell_type": "code",
      "source": [
        "k.jump(1,0)"
      ],
      "metadata": {
        "id": "d9D3RRCgt-Mo"
      },
      "execution_count": 31,
      "outputs": []
    },
    {
      "cell_type": "code",
      "source": [
        "k.jump(1,0)"
      ],
      "metadata": {
        "id": "aK2VSupFuDlF"
      },
      "execution_count": 32,
      "outputs": []
    },
    {
      "cell_type": "code",
      "source": [
        "k.jump(1,0)"
      ],
      "metadata": {
        "id": "iVqDLQWauIZ4"
      },
      "execution_count": 33,
      "outputs": []
    },
    {
      "cell_type": "code",
      "source": [
        "print(k)"
      ],
      "metadata": {
        "colab": {
          "base_uri": "https://localhost:8080/"
        },
        "id": "5QsDzo7JuMYm",
        "outputId": "37b93b42-902e-4245-e70c-d9d9e63c39c3"
      },
      "execution_count": 34,
      "outputs": [
        {
          "output_type": "stream",
          "name": "stdout",
          "text": [
            "I am a Kangaroo located at coordinates (3.3)\n"
          ]
        }
      ]
    },
    {
      "cell_type": "markdown",
      "source": [
        "Question 4"
      ],
      "metadata": {
        "id": "YUD7N3Pauizk"
      }
    },
    {
      "cell_type": "code",
      "source": [
        "def collatz(x):\n",
        "  if(x==1):\n",
        "    print(1)\n",
        "  elif((x>1) and (x%2==0)):\n",
        "    print(x)\n",
        "    collatz(int(x/2))\n",
        "  elif((x>1) and (x%2==1)):\n",
        "    print(x)\n",
        "    collatz((3*x)+1)"
      ],
      "metadata": {
        "id": "Kueri4yiuksF"
      },
      "execution_count": 35,
      "outputs": []
    },
    {
      "cell_type": "code",
      "source": [
        "collatz(1)"
      ],
      "metadata": {
        "colab": {
          "base_uri": "https://localhost:8080/"
        },
        "id": "fOwQPSjkvz-c",
        "outputId": "33d8be13-3768-4466-e1aa-f7b421b6b42a"
      },
      "execution_count": 36,
      "outputs": [
        {
          "output_type": "stream",
          "name": "stdout",
          "text": [
            "1\n"
          ]
        }
      ]
    },
    {
      "cell_type": "code",
      "source": [
        "collatz(10)"
      ],
      "metadata": {
        "colab": {
          "base_uri": "https://localhost:8080/"
        },
        "id": "34xKsyKlv2oN",
        "outputId": "4d9f1abc-96ed-455d-be7e-9c58456b0dc9"
      },
      "execution_count": 37,
      "outputs": [
        {
          "output_type": "stream",
          "name": "stdout",
          "text": [
            "10\n",
            "5\n",
            "16\n",
            "8\n",
            "4\n",
            "2\n",
            "1\n"
          ]
        }
      ]
    },
    {
      "cell_type": "markdown",
      "source": [
        "Question 5"
      ],
      "metadata": {
        "id": "YOaQXpmaw4t4"
      }
    },
    {
      "cell_type": "code",
      "source": [
        "def binary(number):\n",
        "  if((number==1) or (number==0)):\n",
        "    return str(number)\n",
        "  \n",
        "  else:\n",
        "    return str((number%2))+binary(int(number/2))"
      ],
      "metadata": {
        "id": "1xxaxD8ew677"
      },
      "execution_count": 42,
      "outputs": []
    },
    {
      "cell_type": "code",
      "source": [
        "binary(0)"
      ],
      "metadata": {
        "colab": {
          "base_uri": "https://localhost:8080/",
          "height": 36
        },
        "id": "uCncjgIyxago",
        "outputId": "43bae38a-94ca-4b2e-f522-38f0c4eda180"
      },
      "execution_count": 43,
      "outputs": [
        {
          "output_type": "execute_result",
          "data": {
            "text/plain": [
              "'0'"
            ],
            "application/vnd.google.colaboratory.intrinsic+json": {
              "type": "string"
            }
          },
          "metadata": {},
          "execution_count": 43
        }
      ]
    },
    {
      "cell_type": "code",
      "source": [
        "binary(1)"
      ],
      "metadata": {
        "colab": {
          "base_uri": "https://localhost:8080/",
          "height": 36
        },
        "id": "8LFI_fg2xeOz",
        "outputId": "0ea2cbcc-a341-48f0-af9d-de2c3a38598c"
      },
      "execution_count": 44,
      "outputs": [
        {
          "output_type": "execute_result",
          "data": {
            "text/plain": [
              "'1'"
            ],
            "application/vnd.google.colaboratory.intrinsic+json": {
              "type": "string"
            }
          },
          "metadata": {},
          "execution_count": 44
        }
      ]
    },
    {
      "cell_type": "code",
      "source": [
        "binary(3)"
      ],
      "metadata": {
        "colab": {
          "base_uri": "https://localhost:8080/",
          "height": 36
        },
        "id": "eBtJN4eVxuqW",
        "outputId": "b204325f-5cbe-42be-b229-4a416613ba21"
      },
      "execution_count": 45,
      "outputs": [
        {
          "output_type": "execute_result",
          "data": {
            "text/plain": [
              "'11'"
            ],
            "application/vnd.google.colaboratory.intrinsic+json": {
              "type": "string"
            }
          },
          "metadata": {},
          "execution_count": 45
        }
      ]
    },
    {
      "cell_type": "code",
      "source": [
        "binary(9)"
      ],
      "metadata": {
        "colab": {
          "base_uri": "https://localhost:8080/",
          "height": 36
        },
        "id": "G-7C_hR4xx9z",
        "outputId": "ee676d4f-2f1f-4a89-f05d-1486f2922427"
      },
      "execution_count": 46,
      "outputs": [
        {
          "output_type": "execute_result",
          "data": {
            "text/plain": [
              "'1001'"
            ],
            "application/vnd.google.colaboratory.intrinsic+json": {
              "type": "string"
            }
          },
          "metadata": {},
          "execution_count": 46
        }
      ]
    },
    {
      "cell_type": "markdown",
      "source": [
        "Question 6"
      ],
      "metadata": {
        "id": "K2I4EpF0x28k"
      }
    },
    {
      "cell_type": "code",
      "source": [
        "from html.parser import HTMLParser\n",
        "\n",
        "class HeadingParser(HTMLParser):\n",
        "    def __init__(self):\n",
        "        HTMLParser.__init__(self)\n",
        "        self.r = 0 #recording\n",
        "        self.ht = [\"h1\",\"h2\",\"h3\",\"h4\",\"h5\",\"h6\"] #header tags\n",
        "        self.i = 0 #indent\n",
        "\n",
        "    def st(self, t, attrs): #start tag\n",
        "        if t in self.ht:\n",
        "            self.r = 1\n",
        "            self.i = int(t[-1])-1\n",
        "\n",
        "    def et(self, t): #end tag\n",
        "        if t in self.ht:\n",
        "            self.r -= 1\n",
        "            self.i = 0\n",
        "\n",
        "    def data(self, d):#data\n",
        "        if self.r:\n",
        "            print((\"\\t\"*self.i) + d)"
      ],
      "metadata": {
        "id": "gaOOnZcIx4yR"
      },
      "execution_count": 35,
      "outputs": []
    },
    {
      "cell_type": "code",
      "source": [
        "# from google.colab import files\n",
        "# uploaded=files.upload()"
      ],
      "metadata": {
        "id": "MiYH24sh7Uol"
      },
      "execution_count": 12,
      "outputs": []
    },
    {
      "cell_type": "code",
      "source": [
        "infile=open('w3c.html')"
      ],
      "metadata": {
        "id": "-4x__n-64pFT"
      },
      "execution_count": 36,
      "outputs": []
    },
    {
      "cell_type": "code",
      "source": [
        "content=infile.read()"
      ],
      "metadata": {
        "id": "akXioBEA4yA7"
      },
      "execution_count": 37,
      "outputs": []
    },
    {
      "cell_type": "code",
      "source": [
        "infile.close()"
      ],
      "metadata": {
        "id": "eU4c_ib843tQ"
      },
      "execution_count": 38,
      "outputs": []
    },
    {
      "cell_type": "code",
      "source": [
        "hp=HeadingParser()"
      ],
      "metadata": {
        "id": "SMcdxsE148qd"
      },
      "execution_count": 39,
      "outputs": []
    },
    {
      "cell_type": "code",
      "source": [
        "hp.feed(content)"
      ],
      "metadata": {
        "colab": {
          "base_uri": "https://localhost:8080/"
        },
        "id": "xUAxKyoH5A2k",
        "outputId": "8172a5b6-1826-49a0-c9f0-b78d54b9d1b5"
      },
      "execution_count": 40,
      "outputs": [
        {
          "output_type": "stream",
          "name": "stdout",
          "text": [
            "W3C Mission\n",
            "\tPrinciples\n"
          ]
        }
      ]
    },
    {
      "cell_type": "markdown",
      "source": [
        "Question 7"
      ],
      "metadata": {
        "id": "ttavslC2ReYQ"
      }
    },
    {
      "cell_type": "code",
      "source": [
        "from urllib.parse import urljoin\n",
        "from html.parser import HTMLParser\n",
        "class WebScrape(HTMLParser):\n",
        "\n",
        "  def __init__(self,url):\n",
        "\n",
        "    HTMLParser.__init__(self)\n",
        "    self.url=url\n",
        "    self.l=[] #links\n",
        "\n",
        "  def st(self,t,attrs): #start tag\n",
        "\n",
        "    if t=='a':\n",
        "      for attr in attrs:\n",
        "        if attr[0]=='href':\n",
        "          absolute=urljoin(self.url,attr[1])\n",
        "\n",
        "          if absolute[:4]=='http':\n",
        "            self.l.append(absolute)\n",
        "\n",
        "  def links(self): \n",
        "    return self.l"
      ],
      "metadata": {
        "id": "SboW4L-IRf8k"
      },
      "execution_count": 24,
      "outputs": []
    },
    {
      "cell_type": "code",
      "source": [
        "from urllib.request import urlopen\n",
        "from urllib.parse import urljoin\n",
        "from html.parser import HTMLParser\n",
        "\n",
        "def scrape(url):\n",
        "  content=urlopen(url).read().decode()\n",
        "  web_scrape=WebScrape(url)\n",
        "  web_scrape.feed(content)\n",
        "\n",
        "  urls=web_scrape.links()\n",
        "\n",
        "  return urls"
      ],
      "metadata": {
        "id": "2PJho2riYWSp"
      },
      "execution_count": 25,
      "outputs": []
    },
    {
      "cell_type": "code",
      "source": [
        "scrape('https://www.enable-javascript.com/')"
      ],
      "metadata": {
        "colab": {
          "base_uri": "https://localhost:8080/"
        },
        "id": "PFw01_XQbSwm",
        "outputId": "0f39463f-c649-42a6-b379-9489ad33216e"
      },
      "execution_count": 28,
      "outputs": [
        {
          "output_type": "execute_result",
          "data": {
            "text/plain": [
              "['https://www.enable-javascript.com/#nogo',\n",
              " 'https://www.enable-javascript.com/',\n",
              " 'https://www.enable-javascript.com/hr/',\n",
              " 'https://www.enable-javascript.com/de/',\n",
              " 'https://www.enable-javascript.com/nl/',\n",
              " 'https://www.enable-javascript.com/es/',\n",
              " 'https://www.enable-javascript.com/pt/',\n",
              " 'https://www.enable-javascript.com/it/',\n",
              " 'https://www.enable-javascript.com/no/',\n",
              " 'https://www.enable-javascript.com/ru/',\n",
              " 'https://www.enable-javascript.com/fr/',\n",
              " 'https://www.enable-javascript.com/cz/',\n",
              " 'https://www.enable-javascript.com/ja/',\n",
              " 'https://www.enable-javascript.com/ko/',\n",
              " 'https://www.enable-javascript.com/hu/',\n",
              " 'https://www.enable-javascript.com/th/',\n",
              " 'https://www.enable-javascript.com/ph/',\n",
              " 'https://www.enable-javascript.com/tr/',\n",
              " 'https://www.enable-javascript.com/id/',\n",
              " 'https://www.enable-javascript.com/sk/',\n",
              " 'https://www.enable-javascript.com/pl/',\n",
              " 'https://www.enable-javascript.com/ar/',\n",
              " 'https://www.enable-javascript.com/ur/',\n",
              " 'https://www.enable-javascript.com/#ie',\n",
              " 'https://www.enable-javascript.com/#firefox',\n",
              " 'https://www.enable-javascript.com/#chrome',\n",
              " 'https://www.enable-javascript.com/#opera',\n",
              " 'https://www.enable-javascript.com/#safari',\n",
              " 'https://www.enable-javascript.com/#developer',\n",
              " 'https://farm6.static.flickr.com/5029/5689539791_6c2a317971_z.jpg',\n",
              " 'https://farm2.static.flickr.com/1418/4721685229_5a5de0ab80_z.jpg',\n",
              " 'https://farm2.static.flickr.com/1071/4722333668_0e19ab60c0_z.jpg',\n",
              " 'https://farm2.static.flickr.com/1065/4721678225_de73ab447e_z.jpg',\n",
              " 'https://farm2.static.flickr.com/1240/4721672085_943d43f36a_z.jpg',\n",
              " 'https://farm2.static.flickr.com/1335/4721667825_41e2705d46_z.jpg',\n",
              " 'https://farm2.static.flickr.com/1050/4721663071_c5b532743d_z.jpg',\n",
              " 'https://farm6.static.flickr.com/5300/5570661607_0040d30b25_z.jpg',\n",
              " 'https://farm2.static.flickr.com/1340/4721687795_acd01cda73_z.jpg',\n",
              " 'https://farm2.static.flickr.com/1418/4721685229_5a5de0ab80_z.jpg',\n",
              " 'https://farm2.static.flickr.com/1071/4722333668_0e19ab60c0_z.jpg',\n",
              " 'https://farm2.static.flickr.com/1065/4721678225_de73ab447e_z.jpg',\n",
              " 'https://farm2.static.flickr.com/1240/4721672085_943d43f36a_z.jpg',\n",
              " 'https://farm2.static.flickr.com/1335/4721667825_41e2705d46_z.jpg',\n",
              " 'https://farm2.static.flickr.com/1050/4721663071_c5b532743d_z.jpg',\n",
              " 'https://farm2.static.flickr.com/1436/4721648357_a07b3f91f6_z.jpg',\n",
              " 'https://farm8.staticflickr.com/7319/16454098951_d34e17241d_z.jpg',\n",
              " 'https://farm8.staticflickr.com/7362/16455844865_a2fea4d261_z.jpg',\n",
              " 'https://farm8.staticflickr.com/7301/16454099181_4900b2461a_z.jpg',\n",
              " 'https://farm9.staticflickr.com/8666/15833321544_70ea118cf4_z.jpg',\n",
              " 'https://farm8.staticflickr.com/7329/16268413630_680393acd9_z.jpg',\n",
              " 'https://farm9.staticflickr.com/8428/7780404404_29aa80e0e3_z.jpg',\n",
              " 'https://farm9.staticflickr.com/8442/7780404290_beb923884b_z.jpg',\n",
              " 'https://farm8.staticflickr.com/7124/7780404172_9207f67364_z.jpg',\n",
              " 'https://farm9.staticflickr.com/8294/7780404068_92fc5b2396_z.jpg',\n",
              " 'https://farm8.staticflickr.com/7126/7780403992_80d924480b_z.jpg',\n",
              " 'https://farm9.staticflickr.com/8426/7780403906_d3386e5877_z.jpg',\n",
              " 'https://farm8.staticflickr.com/7277/7780403812_b765206cc6_z.jpg',\n",
              " 'https://c1.staticflickr.com/5/4232/34866680344_dc8722657f_z.jpg',\n",
              " 'https://c1.staticflickr.com/5/4080/34866680234_5870dfb268_z.jpg',\n",
              " 'https://c1.staticflickr.com/5/4005/34867024234_53b7383815_z.jpg',\n",
              " 'https://farm5.static.flickr.com/4134/4741286721_8770fe8879_z.jpg',\n",
              " 'https://farm5.static.flickr.com/4093/4741286719_e4fa9ec414_z.jpg',\n",
              " 'https://farm5.static.flickr.com/4081/4741286717_1e1a8ff4da_z.jpg',\n",
              " 'https://farm5.static.flickr.com/4142/4741286715_ac0d603b07_z.jpg',\n",
              " 'http://toni.podmanicki.com/',\n",
              " 'http://paulirish.com/',\n",
              " 'http://twitter.com/spifferiferfied',\n",
              " 'https://www.enable-javascript.com/#nogo',\n",
              " 'https://www.enable-javascript.com/#nogo',\n",
              " 'https://www.enable-javascript.com/#nogo',\n",
              " 'https://www.enable-javascript.com/#nogo',\n",
              " 'https://www.enable-javascript.com/#nogo',\n",
              " 'https://www.enable-javascript.com/#nogo',\n",
              " 'https://www.enable-javascript.com/#nogo',\n",
              " 'https://www.enable-javascript.com/#nogo',\n",
              " 'https://www.enable-javascript.com/#nogo',\n",
              " 'https://www.enable-javascript.com/#nogo',\n",
              " 'http://hail2u.net',\n",
              " 'http://firejune.com/',\n",
              " 'https://www.enable-javascript.com/#nogo',\n",
              " 'https://www.enable-javascript.com/#nogo',\n",
              " 'http://lifetickler.com/author/jesse/',\n",
              " 'https://www.ugureskici.com/',\n",
              " 'https://www.enable-javascript.com/#nogo',\n",
              " 'http://ondrek.com/',\n",
              " 'https://www.enable-javascript.com/#nogo',\n",
              " 'https://www.enable-javascript.com/#nogo',\n",
              " 'http://mertsahinoglu.com',\n",
              " 'https://brokescholar.com/coupon-codes/',\n",
              " 'https://www.firesticktricks.com/',\n",
              " 'https://www.refermate.com',\n",
              " 'https://vpn.group/',\n",
              " 'https://www.ramotion.com/web-app-development/',\n",
              " 'https://xn--frskrat-7wa3n.se/',\n",
              " 'https://www.vpsserver.com',\n",
              " 'https://vpnoverview.com/',\n",
              " 'https://www.quelmatelas.fr/emma-matelas-test',\n",
              " 'https://www.livesportsontv.com/',\n",
              " 'https://www.maklarofferter.se/',\n",
              " 'https://www.mäklararvode.se/',\n",
              " 'https://www.4kdownload.com/products/product-tokkit/1',\n",
              " 'https://www.smart-home-fox.de/',\n",
              " 'https://www.dontpayfull.com',\n",
              " 'https://www.jrop.com/services/cash-for-junk-cars/',\n",
              " 'https://twitter.com/intent/tweet?text=How to enable JavaScript in your browser and why&url=http://www.enable-javascript.com/&hashtags=JavaScript',\n",
              " 'https://facebook.com/sharer.php?u=www.enable-javascript.com/',\n",
              " 'http://toni.podmanicki.com/en/']"
            ]
          },
          "metadata": {},
          "execution_count": 28
        }
      ]
    },
    {
      "cell_type": "code",
      "source": [
        "visit_track = []\n",
        "\n",
        "def webdir(url,depth,indent):\n",
        "    print((indent*\"\\t\")+url)\n",
        "    \n",
        "    #assign URL to visit_track variable\n",
        "    global visit_track\n",
        "    visit_track.append(url)\n",
        "    \n",
        "    #scrape hyperlinks from URL\n",
        "    links = scrape(url)\n",
        "    \n",
        "    if (depth>0):\n",
        "        for l in links:\n",
        "            if l not in visit_track:\n",
        "                try:\n",
        "                    webdir(l,depth-1,indent+1)\n",
        "                except: pass"
      ],
      "metadata": {
        "id": "p-DR5FM2b1xO"
      },
      "execution_count": 29,
      "outputs": []
    },
    {
      "cell_type": "code",
      "source": [
        "\n",
        "url = \"https://www.enable-javascript.com/\""
      ],
      "metadata": {
        "id": "JMNEIEW9eGgV"
      },
      "execution_count": 33,
      "outputs": []
    },
    {
      "cell_type": "code",
      "source": [
        "webdir(url,2,0)"
      ],
      "metadata": {
        "colab": {
          "base_uri": "https://localhost:8080/"
        },
        "id": "7s35YNKlePBY",
        "outputId": "511e9f8a-610f-4ba2-f332-f25b6766864d"
      },
      "execution_count": 34,
      "outputs": [
        {
          "output_type": "stream",
          "name": "stdout",
          "text": [
            "https://www.enable-javascript.com/\n",
            "\thttps://www.enable-javascript.com/#nogo\n",
            "\t\thttps://www.enable-javascript.com/hr/\n",
            "\t\thttps://www.enable-javascript.com/de/\n",
            "\t\thttps://www.enable-javascript.com/nl/\n",
            "\t\thttps://www.enable-javascript.com/es/\n",
            "\t\thttps://www.enable-javascript.com/pt/\n",
            "\t\thttps://www.enable-javascript.com/it/\n",
            "\t\thttps://www.enable-javascript.com/no/\n",
            "\t\thttps://www.enable-javascript.com/ru/\n",
            "\t\thttps://www.enable-javascript.com/fr/\n",
            "\t\thttps://www.enable-javascript.com/cz/\n",
            "\t\thttps://www.enable-javascript.com/ja/\n",
            "\t\thttps://www.enable-javascript.com/ko/\n",
            "\t\thttps://www.enable-javascript.com/hu/\n",
            "\t\thttps://www.enable-javascript.com/th/\n",
            "\t\thttps://www.enable-javascript.com/ph/\n",
            "\t\thttps://www.enable-javascript.com/tr/\n",
            "\t\thttps://www.enable-javascript.com/id/\n",
            "\t\thttps://www.enable-javascript.com/sk/\n",
            "\t\thttps://www.enable-javascript.com/pl/\n",
            "\t\thttps://www.enable-javascript.com/ar/\n",
            "\t\thttps://www.enable-javascript.com/ur/\n",
            "\t\thttps://www.enable-javascript.com/#ie\n",
            "\t\thttps://www.enable-javascript.com/#firefox\n",
            "\t\thttps://www.enable-javascript.com/#chrome\n",
            "\t\thttps://www.enable-javascript.com/#opera\n",
            "\t\thttps://www.enable-javascript.com/#safari\n",
            "\t\thttps://www.enable-javascript.com/#developer\n",
            "\t\thttps://farm6.static.flickr.com/5029/5689539791_6c2a317971_z.jpg\n",
            "\t\thttps://farm2.static.flickr.com/1418/4721685229_5a5de0ab80_z.jpg\n",
            "\t\thttps://farm2.static.flickr.com/1071/4722333668_0e19ab60c0_z.jpg\n",
            "\t\thttps://farm2.static.flickr.com/1065/4721678225_de73ab447e_z.jpg\n",
            "\t\thttps://farm2.static.flickr.com/1240/4721672085_943d43f36a_z.jpg\n",
            "\t\thttps://farm2.static.flickr.com/1335/4721667825_41e2705d46_z.jpg\n",
            "\t\thttps://farm2.static.flickr.com/1050/4721663071_c5b532743d_z.jpg\n",
            "\t\thttps://farm6.static.flickr.com/5300/5570661607_0040d30b25_z.jpg\n",
            "\t\thttps://farm2.static.flickr.com/1340/4721687795_acd01cda73_z.jpg\n",
            "\t\thttps://farm2.static.flickr.com/1436/4721648357_a07b3f91f6_z.jpg\n",
            "\t\thttps://farm8.staticflickr.com/7319/16454098951_d34e17241d_z.jpg\n",
            "\t\thttps://farm8.staticflickr.com/7362/16455844865_a2fea4d261_z.jpg\n",
            "\t\thttps://farm8.staticflickr.com/7301/16454099181_4900b2461a_z.jpg\n",
            "\t\thttps://farm9.staticflickr.com/8666/15833321544_70ea118cf4_z.jpg\n",
            "\t\thttps://farm8.staticflickr.com/7329/16268413630_680393acd9_z.jpg\n",
            "\t\thttps://farm9.staticflickr.com/8428/7780404404_29aa80e0e3_z.jpg\n",
            "\t\thttps://farm9.staticflickr.com/8442/7780404290_beb923884b_z.jpg\n",
            "\t\thttps://farm8.staticflickr.com/7124/7780404172_9207f67364_z.jpg\n",
            "\t\thttps://farm9.staticflickr.com/8294/7780404068_92fc5b2396_z.jpg\n",
            "\t\thttps://farm8.staticflickr.com/7126/7780403992_80d924480b_z.jpg\n",
            "\t\thttps://farm9.staticflickr.com/8426/7780403906_d3386e5877_z.jpg\n",
            "\t\thttps://farm8.staticflickr.com/7277/7780403812_b765206cc6_z.jpg\n",
            "\t\thttps://c1.staticflickr.com/5/4232/34866680344_dc8722657f_z.jpg\n",
            "\t\thttps://c1.staticflickr.com/5/4080/34866680234_5870dfb268_z.jpg\n",
            "\t\thttps://c1.staticflickr.com/5/4005/34867024234_53b7383815_z.jpg\n",
            "\t\thttps://farm5.static.flickr.com/4134/4741286721_8770fe8879_z.jpg\n",
            "\t\thttps://farm5.static.flickr.com/4093/4741286719_e4fa9ec414_z.jpg\n",
            "\t\thttps://farm5.static.flickr.com/4081/4741286717_1e1a8ff4da_z.jpg\n",
            "\t\thttps://farm5.static.flickr.com/4142/4741286715_ac0d603b07_z.jpg\n",
            "\t\thttp://toni.podmanicki.com/\n",
            "\t\thttp://paulirish.com/\n",
            "\t\thttp://twitter.com/spifferiferfied\n",
            "\t\thttp://hail2u.net\n",
            "\t\thttp://firejune.com/\n",
            "\t\thttp://lifetickler.com/author/jesse/\n",
            "\t\thttps://www.ugureskici.com/\n",
            "\t\thttp://ondrek.com/\n",
            "\t\thttp://mertsahinoglu.com\n",
            "\t\thttps://brokescholar.com/coupon-codes/\n",
            "\t\thttps://www.firesticktricks.com/\n",
            "\t\thttps://www.refermate.com\n",
            "\t\thttps://vpn.group/\n",
            "\t\thttps://www.ramotion.com/web-app-development/\n",
            "\t\thttps://xn--frskrat-7wa3n.se/\n",
            "\t\thttps://www.vpsserver.com\n",
            "\t\thttps://vpnoverview.com/\n",
            "\t\thttps://www.quelmatelas.fr/emma-matelas-test\n",
            "\t\thttps://www.livesportsontv.com/\n",
            "\t\thttps://www.maklarofferter.se/\n",
            "\t\thttps://www.mäklararvode.se/\n",
            "\t\thttps://www.4kdownload.com/products/product-tokkit/1\n",
            "\t\thttps://www.smart-home-fox.de/\n",
            "\t\thttps://www.dontpayfull.com\n",
            "\t\thttps://www.jrop.com/services/cash-for-junk-cars/\n",
            "\t\thttps://twitter.com/intent/tweet?text=How to enable JavaScript in your browser and why&url=http://www.enable-javascript.com/&hashtags=JavaScript\n",
            "\t\thttps://facebook.com/sharer.php?u=www.enable-javascript.com/\n",
            "\t\thttp://toni.podmanicki.com/en/\n"
          ]
        }
      ]
    },
    {
      "cell_type": "markdown",
      "source": [
        "Question 8"
      ],
      "metadata": {
        "id": "RljSUYH6oYLb"
      }
    },
    {
      "cell_type": "code",
      "source": [
        "import sqlite3"
      ],
      "metadata": {
        "id": "dUdBIFCbofjd"
      },
      "execution_count": 48,
      "outputs": []
    },
    {
      "cell_type": "code",
      "source": [
        "# create a new database called global.db\n",
        "connection = sqlite3.connect('global.db')\n",
        "cursor= connection.cursor()"
      ],
      "metadata": {
        "id": "RO1os2aul3j6"
      },
      "execution_count": 49,
      "outputs": []
    },
    {
      "cell_type": "code",
      "source": [
        "# create new table called Region\n",
        "cursor.execute('''\n",
        "CREATE TABLE Region (\n",
        "  City text, \n",
        "  Country text, \n",
        "  Season text, \n",
        "  Temperature real, \n",
        "  Rainfall real)''')"
      ],
      "metadata": {
        "colab": {
          "base_uri": "https://localhost:8080/"
        },
        "id": "A5JfKKraooHT",
        "outputId": "4b81614a-3316-4e59-ad89-ef4ae40bec99"
      },
      "execution_count": 50,
      "outputs": [
        {
          "output_type": "execute_result",
          "data": {
            "text/plain": [
              "<sqlite3.Cursor at 0x7f966ffc2500>"
            ]
          },
          "metadata": {},
          "execution_count": 50
        }
      ]
    },
    {
      "cell_type": "code",
      "source": [
        "#insert data to table region\n",
        "cursor.execute(\"INSERT INTO Region VALUES ('Mumbai','India','Winter',24.8,5.9)\")\n",
        "cursor.execute(\"INSERT INTO Region VALUES ('Mumbai','India','Spring',28.4,16.2)\")\n",
        "cursor.execute(\"INSERT INTO Region VALUES ('Mumbai','India','Summer',27.9,1549.4)\")\n",
        "cursor.execute(\"INSERT INTO Region VALUES ('Mumbai','India','Fall',27.6,346.0)\")\n",
        "cursor.execute(\"INSERT INTO Region VALUES ('London','United Kingdom','Winter',4.2,207.7)\")\n",
        "cursor.execute(\"INSERT INTO Region VALUES ('London','United Kingdom','Spring',8.3,169.6)\")\n",
        "cursor.execute(\"INSERT INTO Region VALUES ('London','United Kingdom','Summer',15.7,157.0)\")\n",
        "cursor.execute(\"INSERT INTO Region VALUES ('London','United Kingdom','Fall',10.4,218.5)\")\n",
        "cursor.execute(\"INSERT INTO Region VALUES ('Cairo','Egypt','Winter',13.6,16.5)\")\n",
        "cursor.execute(\"INSERT INTO Region VALUES ('Cairo','Egypt','Spring',20.7,6.5)\")\n",
        "cursor.execute(\"INSERT INTO Region VALUES ('Cairo','Egypt','Summer',27.7,0.1)\")\n",
        "cursor.execute(\"INSERT INTO Region VALUES ('Cairo','Egypt','Fall',22.2,4.5)\")"
      ],
      "metadata": {
        "colab": {
          "base_uri": "https://localhost:8080/"
        },
        "id": "0PYF2Yz2o4Lc",
        "outputId": "39e01898-99b0-4ec9-a76f-ef900884ad0f"
      },
      "execution_count": 52,
      "outputs": [
        {
          "output_type": "execute_result",
          "data": {
            "text/plain": [
              "<sqlite3.Cursor at 0x7f966ffc2500>"
            ]
          },
          "metadata": {},
          "execution_count": 52
        }
      ]
    },
    {
      "cell_type": "code",
      "source": [
        "#retrieve data from table region\n",
        "cursor.execute(\"SELECT * FROM Region\")\n",
        "cursor.fetchall()"
      ],
      "metadata": {
        "colab": {
          "base_uri": "https://localhost:8080/"
        },
        "id": "o8o7ZS36qA0L",
        "outputId": "515a6cfa-ba72-4dc0-8483-3daef80c7671"
      },
      "execution_count": 53,
      "outputs": [
        {
          "output_type": "execute_result",
          "data": {
            "text/plain": [
              "[('Mumbai', 'India', 'Winter', 24.8, 5.9),\n",
              " ('Mumbai', 'India', 'Spring', 28.4, 16.2),\n",
              " ('Mumbai', 'India', 'Summer', 27.9, 1549.4),\n",
              " ('Mumbai', 'India', 'Fall', 27.6, 346.0),\n",
              " ('London', 'United Kingdom', 'Winter', 4.2, 207.7),\n",
              " ('London', 'United Kingdom', 'Spring', 8.3, 169.6),\n",
              " ('London', 'United Kingdom', 'Summer', 15.7, 157.0),\n",
              " ('London', 'United Kingdom', 'Fall', 10.4, 218.5),\n",
              " ('Cairo', 'Egypt', 'Winter', 13.6, 16.5),\n",
              " ('Cairo', 'Egypt', 'Spring', 20.7, 6.5),\n",
              " ('Cairo', 'Egypt', 'Summer', 27.7, 0.1),\n",
              " ('Cairo', 'Egypt', 'Fall', 22.2, 4.5)]"
            ]
          },
          "metadata": {},
          "execution_count": 53
        }
      ]
    },
    {
      "cell_type": "code",
      "source": [
        "#Part a\n",
        "cursor.execute(\"SELECT Temperature FROM Region\")\n",
        "cursor.fetchall()"
      ],
      "metadata": {
        "colab": {
          "base_uri": "https://localhost:8080/"
        },
        "id": "u-w4DRF4qWtD",
        "outputId": "d2f29e26-8db1-4170-c442-a7ebd3ee5a1f"
      },
      "execution_count": 54,
      "outputs": [
        {
          "output_type": "execute_result",
          "data": {
            "text/plain": [
              "[(24.8,),\n",
              " (28.4,),\n",
              " (27.9,),\n",
              " (27.6,),\n",
              " (4.2,),\n",
              " (8.3,),\n",
              " (15.7,),\n",
              " (10.4,),\n",
              " (13.6,),\n",
              " (20.7,),\n",
              " (27.7,),\n",
              " (22.2,)]"
            ]
          },
          "metadata": {},
          "execution_count": 54
        }
      ]
    },
    {
      "cell_type": "code",
      "source": [
        "#Part b\n",
        "cursor.execute(\"SELECT DISTINCT City FROM Region\")\n",
        "cursor.fetchall()"
      ],
      "metadata": {
        "colab": {
          "base_uri": "https://localhost:8080/"
        },
        "id": "uHqFggdaqdB3",
        "outputId": "6a1a6fb0-b636-486c-a626-5d9b995a5594"
      },
      "execution_count": 56,
      "outputs": [
        {
          "output_type": "execute_result",
          "data": {
            "text/plain": [
              "[('Mumbai',), ('London',), ('Cairo',)]"
            ]
          },
          "metadata": {},
          "execution_count": 56
        }
      ]
    },
    {
      "cell_type": "code",
      "source": [
        "#Part c\n",
        "cursor.execute(\"SELECT * FROM Region WHERE Country = 'India'\")\n",
        "cursor.fetchall()"
      ],
      "metadata": {
        "colab": {
          "base_uri": "https://localhost:8080/"
        },
        "id": "QstEw5YEqnuA",
        "outputId": "66f707cd-0419-4102-dc9d-f10af5dc1ae5"
      },
      "execution_count": 57,
      "outputs": [
        {
          "output_type": "execute_result",
          "data": {
            "text/plain": [
              "[('Mumbai', 'India', 'Winter', 24.8, 5.9),\n",
              " ('Mumbai', 'India', 'Spring', 28.4, 16.2),\n",
              " ('Mumbai', 'India', 'Summer', 27.9, 1549.4),\n",
              " ('Mumbai', 'India', 'Fall', 27.6, 346.0)]"
            ]
          },
          "metadata": {},
          "execution_count": 57
        }
      ]
    },
    {
      "cell_type": "code",
      "source": [
        "#Part d\n",
        "cursor.execute(\"SELECT * FROM Region WHERE Season = 'Fall'\")\n",
        "cursor.fetchall()"
      ],
      "metadata": {
        "colab": {
          "base_uri": "https://localhost:8080/"
        },
        "id": "8QDXs3LHqwZd",
        "outputId": "a5f24f95-6dca-4b76-d8dc-22a521f6aafb"
      },
      "execution_count": 58,
      "outputs": [
        {
          "output_type": "execute_result",
          "data": {
            "text/plain": [
              "[('Mumbai', 'India', 'Fall', 27.6, 346.0),\n",
              " ('London', 'United Kingdom', 'Fall', 10.4, 218.5),\n",
              " ('Cairo', 'Egypt', 'Fall', 22.2, 4.5)]"
            ]
          },
          "metadata": {},
          "execution_count": 58
        }
      ]
    },
    {
      "cell_type": "code",
      "source": [
        "#Part e\n",
        "cursor.execute(\"SELECT City,Country,Season FROM Region WHERE (Rainfall>200 AND Rainfall<400)\")\n",
        "cursor.fetchall()"
      ],
      "metadata": {
        "colab": {
          "base_uri": "https://localhost:8080/"
        },
        "id": "0Acjuk-Yq4ep",
        "outputId": "abc7ff1e-69d1-452e-ff09-54bea4aa3154"
      },
      "execution_count": 59,
      "outputs": [
        {
          "output_type": "execute_result",
          "data": {
            "text/plain": [
              "[('Mumbai', 'India', 'Fall'),\n",
              " ('London', 'United Kingdom', 'Winter'),\n",
              " ('London', 'United Kingdom', 'Fall')]"
            ]
          },
          "metadata": {},
          "execution_count": 59
        }
      ]
    },
    {
      "cell_type": "code",
      "source": [
        "#Part f\n",
        "cursor.execute(\"SELECT City,Country FROM Region WHERE Temperature>20 ORDER BY Temperature\")\n",
        "cursor.fetchall()"
      ],
      "metadata": {
        "colab": {
          "base_uri": "https://localhost:8080/"
        },
        "id": "1Wgi0D1drBcC",
        "outputId": "931ec905-1393-40a5-d34b-11d6db6df777"
      },
      "execution_count": 60,
      "outputs": [
        {
          "output_type": "execute_result",
          "data": {
            "text/plain": [
              "[('Cairo', 'Egypt'),\n",
              " ('Cairo', 'Egypt'),\n",
              " ('Mumbai', 'India'),\n",
              " ('Mumbai', 'India'),\n",
              " ('Cairo', 'Egypt'),\n",
              " ('Mumbai', 'India'),\n",
              " ('Mumbai', 'India')]"
            ]
          },
          "metadata": {},
          "execution_count": 60
        }
      ]
    },
    {
      "cell_type": "code",
      "source": [
        "#Part g\n",
        "cursor.execute(\"SELECT SUM(Rainfall) FROM Region WHERE City = 'Cairo'\")\n",
        "cursor.fetchall()"
      ],
      "metadata": {
        "colab": {
          "base_uri": "https://localhost:8080/"
        },
        "id": "iLhEphoDrKY9",
        "outputId": "23441509-8ac8-4ff5-eeb5-b4e4ae0c2737"
      },
      "execution_count": 62,
      "outputs": [
        {
          "output_type": "execute_result",
          "data": {
            "text/plain": [
              "[(27.6,)]"
            ]
          },
          "metadata": {},
          "execution_count": 62
        }
      ]
    },
    {
      "cell_type": "code",
      "source": [
        "#Part i\n",
        "cursor.execute(\"SELECT Season,SUM(Rainfall) FROM Region GROUP BY Season\")\n",
        "cursor.fetchall()"
      ],
      "metadata": {
        "colab": {
          "base_uri": "https://localhost:8080/"
        },
        "id": "9W99QNRjrThZ",
        "outputId": "0684fdba-816d-4b11-e4f8-5cc6038f500c"
      },
      "execution_count": 64,
      "outputs": [
        {
          "output_type": "execute_result",
          "data": {
            "text/plain": [
              "[('Fall', 569.0),\n",
              " ('Spring', 192.29999999999998),\n",
              " ('Summer', 1706.5),\n",
              " ('Winter', 230.1)]"
            ]
          },
          "metadata": {},
          "execution_count": 64
        }
      ]
    },
    {
      "cell_type": "markdown",
      "source": [
        "Question 9"
      ],
      "metadata": {
        "id": "F-nzL_OareL1"
      }
    },
    {
      "cell_type": "code",
      "source": [
        "words = ['The', 'quick', 'brown', 'fox', 'jumps', 'over', 'the', 'lazy', 'dog']"
      ],
      "metadata": {
        "id": "b9hSlLFnrfol"
      },
      "execution_count": 66,
      "outputs": []
    },
    {
      "cell_type": "code",
      "source": [
        "#Part a\n",
        "[w.upper() for w in words]"
      ],
      "metadata": {
        "colab": {
          "base_uri": "https://localhost:8080/"
        },
        "id": "7Xqd1yAIr9kS",
        "outputId": "7bee3dd2-d5fd-4653-a4c4-e5b20965a8ad"
      },
      "execution_count": 67,
      "outputs": [
        {
          "output_type": "execute_result",
          "data": {
            "text/plain": [
              "['THE', 'QUICK', 'BROWN', 'FOX', 'JUMPS', 'OVER', 'THE', 'LAZY', 'DOG']"
            ]
          },
          "metadata": {},
          "execution_count": 67
        }
      ]
    },
    {
      "cell_type": "code",
      "source": [
        "#Part b\n",
        "[w.lower() for w in words]"
      ],
      "metadata": {
        "colab": {
          "base_uri": "https://localhost:8080/"
        },
        "id": "IqyafVeRsFSr",
        "outputId": "58d8c7f5-9050-421f-cd0e-4bf6f3cd13c0"
      },
      "execution_count": 68,
      "outputs": [
        {
          "output_type": "execute_result",
          "data": {
            "text/plain": [
              "['the', 'quick', 'brown', 'fox', 'jumps', 'over', 'the', 'lazy', 'dog']"
            ]
          },
          "metadata": {},
          "execution_count": 68
        }
      ]
    },
    {
      "cell_type": "code",
      "source": [
        "#Part c\n",
        "[w.lower() for w in words]"
      ],
      "metadata": {
        "colab": {
          "base_uri": "https://localhost:8080/"
        },
        "id": "ujik5a_TsMMm",
        "outputId": "796d9a1b-3e0a-4dc1-9cd4-6b3f9c9890d7"
      },
      "execution_count": 69,
      "outputs": [
        {
          "output_type": "execute_result",
          "data": {
            "text/plain": [
              "['the', 'quick', 'brown', 'fox', 'jumps', 'over', 'the', 'lazy', 'dog']"
            ]
          },
          "metadata": {},
          "execution_count": 69
        }
      ]
    },
    {
      "cell_type": "code",
      "source": [
        "#Part d\n",
        "[[w.upper(),w.lower(),len(w)]  for w in words]"
      ],
      "metadata": {
        "colab": {
          "base_uri": "https://localhost:8080/"
        },
        "id": "x8JsnZtzsSK5",
        "outputId": "ebdbf6d0-f0cc-4402-e05d-4f54ed2551b9"
      },
      "execution_count": 70,
      "outputs": [
        {
          "output_type": "execute_result",
          "data": {
            "text/plain": [
              "[['THE', 'the', 3],\n",
              " ['QUICK', 'quick', 5],\n",
              " ['BROWN', 'brown', 5],\n",
              " ['FOX', 'fox', 3],\n",
              " ['JUMPS', 'jumps', 5],\n",
              " ['OVER', 'over', 4],\n",
              " ['THE', 'the', 3],\n",
              " ['LAZY', 'lazy', 4],\n",
              " ['DOG', 'dog', 3]]"
            ]
          },
          "metadata": {},
          "execution_count": 70
        }
      ]
    },
    {
      "cell_type": "code",
      "source": [
        "#Part e\n",
        "[w for w in words if (len(w)>=4)]"
      ],
      "metadata": {
        "colab": {
          "base_uri": "https://localhost:8080/"
        },
        "id": "3PM4_ZkTsZDC",
        "outputId": "fbdf06b9-461b-42cb-87d7-14ad53f76bc8"
      },
      "execution_count": 71,
      "outputs": [
        {
          "output_type": "execute_result",
          "data": {
            "text/plain": [
              "['quick', 'brown', 'jumps', 'over', 'lazy']"
            ]
          },
          "metadata": {},
          "execution_count": 71
        }
      ]
    }
  ]
}