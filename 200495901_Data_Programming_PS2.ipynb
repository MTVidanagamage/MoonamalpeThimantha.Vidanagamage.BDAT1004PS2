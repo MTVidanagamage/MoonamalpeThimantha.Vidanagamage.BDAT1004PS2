{
  "nbformat": 4,
  "nbformat_minor": 0,
  "metadata": {
    "colab": {
      "provenance": []
    },
    "kernelspec": {
      "name": "python3",
      "display_name": "Python 3"
    },
    "language_info": {
      "name": "python"
    }
  },
  "cells": [
    {
      "cell_type": "markdown",
      "source": [
        "Question 1"
      ],
      "metadata": {
        "id": "4qsY73CleZF6"
      }
    },
    {
      "cell_type": "code",
      "source": [
        "a=0\n",
        "def b():\n",
        "  global a\n",
        "  a=c(a)\n",
        "\n",
        "def c(a):\n",
        "  return a+2"
      ],
      "metadata": {
        "id": "YRabkDAEecUe"
      },
      "execution_count": 1,
      "outputs": []
    },
    {
      "cell_type": "code",
      "source": [
        "b()"
      ],
      "metadata": {
        "id": "p9wImvDdfSxI"
      },
      "execution_count": 2,
      "outputs": []
    },
    {
      "cell_type": "markdown",
      "source": [
        "The value 0 is assigned to the variable a. After the function b() is executed, function c(a) is executed which results in a=2."
      ],
      "metadata": {
        "id": "iQCdyCvKf3rX"
      }
    },
    {
      "cell_type": "code",
      "source": [
        "b()"
      ],
      "metadata": {
        "id": "wX9m91DPfYnQ"
      },
      "execution_count": 3,
      "outputs": []
    },
    {
      "cell_type": "markdown",
      "source": [
        "As a=2, when the function b() is executed, function c(a) is executed which results in a=4."
      ],
      "metadata": {
        "id": "8A4yD0_CgM7N"
      }
    },
    {
      "cell_type": "code",
      "source": [
        "b()"
      ],
      "metadata": {
        "id": "0HN8zEesfgYM"
      },
      "execution_count": 4,
      "outputs": []
    },
    {
      "cell_type": "markdown",
      "source": [
        "As a=4, when the function b() is executed, function c(a) is executed which results in a=6."
      ],
      "metadata": {
        "id": "PNJcNqdCgbNw"
      }
    },
    {
      "cell_type": "code",
      "source": [
        "a"
      ],
      "metadata": {
        "colab": {
          "base_uri": "https://localhost:8080/"
        },
        "id": "OFJ1Phupfjlt",
        "outputId": "5c045552-27ba-474f-a60a-a1c9c11fd6c3"
      },
      "execution_count": 5,
      "outputs": [
        {
          "output_type": "execute_result",
          "data": {
            "text/plain": [
              "6"
            ]
          },
          "metadata": {},
          "execution_count": 5
        }
      ]
    },
    {
      "cell_type": "markdown",
      "source": [
        "Question 2"
      ],
      "metadata": {
        "id": "UNZh9oDohHpZ"
      }
    },
    {
      "cell_type": "code",
      "source": [
        "def file_length(file_name):\n",
        "  try:\n",
        "    file = open(file_name)\n",
        "    contents = file.read()\n",
        "    file.close()\n",
        "    print(len(contents))\n",
        "\n",
        "  except:\n",
        "    print(\"File {} not found\".format(file_name))\n"
      ],
      "metadata": {
        "id": "jyzw-44GhJU_"
      },
      "execution_count": 7,
      "outputs": []
    },
    {
      "cell_type": "code",
      "source": [
        "from google.colab import files\n",
        "uploaded=files.upload()"
      ],
      "metadata": {
        "colab": {
          "base_uri": "https://localhost:8080/",
          "height": 73
        },
        "id": "86FNmAVPiq8P",
        "outputId": "a3fe82fc-72cc-49db-82a1-d6c8582b1f31"
      },
      "execution_count": 8,
      "outputs": [
        {
          "output_type": "display_data",
          "data": {
            "text/plain": [
              "<IPython.core.display.HTML object>"
            ],
            "text/html": [
              "\n",
              "     <input type=\"file\" id=\"files-32fa75cb-b823-44da-8ff4-a146973248d7\" name=\"files[]\" multiple disabled\n",
              "        style=\"border:none\" />\n",
              "     <output id=\"result-32fa75cb-b823-44da-8ff4-a146973248d7\">\n",
              "      Upload widget is only available when the cell has been executed in the\n",
              "      current browser session. Please rerun this cell to enable.\n",
              "      </output>\n",
              "      <script>// Copyright 2017 Google LLC\n",
              "//\n",
              "// Licensed under the Apache License, Version 2.0 (the \"License\");\n",
              "// you may not use this file except in compliance with the License.\n",
              "// You may obtain a copy of the License at\n",
              "//\n",
              "//      http://www.apache.org/licenses/LICENSE-2.0\n",
              "//\n",
              "// Unless required by applicable law or agreed to in writing, software\n",
              "// distributed under the License is distributed on an \"AS IS\" BASIS,\n",
              "// WITHOUT WARRANTIES OR CONDITIONS OF ANY KIND, either express or implied.\n",
              "// See the License for the specific language governing permissions and\n",
              "// limitations under the License.\n",
              "\n",
              "/**\n",
              " * @fileoverview Helpers for google.colab Python module.\n",
              " */\n",
              "(function(scope) {\n",
              "function span(text, styleAttributes = {}) {\n",
              "  const element = document.createElement('span');\n",
              "  element.textContent = text;\n",
              "  for (const key of Object.keys(styleAttributes)) {\n",
              "    element.style[key] = styleAttributes[key];\n",
              "  }\n",
              "  return element;\n",
              "}\n",
              "\n",
              "// Max number of bytes which will be uploaded at a time.\n",
              "const MAX_PAYLOAD_SIZE = 100 * 1024;\n",
              "\n",
              "function _uploadFiles(inputId, outputId) {\n",
              "  const steps = uploadFilesStep(inputId, outputId);\n",
              "  const outputElement = document.getElementById(outputId);\n",
              "  // Cache steps on the outputElement to make it available for the next call\n",
              "  // to uploadFilesContinue from Python.\n",
              "  outputElement.steps = steps;\n",
              "\n",
              "  return _uploadFilesContinue(outputId);\n",
              "}\n",
              "\n",
              "// This is roughly an async generator (not supported in the browser yet),\n",
              "// where there are multiple asynchronous steps and the Python side is going\n",
              "// to poll for completion of each step.\n",
              "// This uses a Promise to block the python side on completion of each step,\n",
              "// then passes the result of the previous step as the input to the next step.\n",
              "function _uploadFilesContinue(outputId) {\n",
              "  const outputElement = document.getElementById(outputId);\n",
              "  const steps = outputElement.steps;\n",
              "\n",
              "  const next = steps.next(outputElement.lastPromiseValue);\n",
              "  return Promise.resolve(next.value.promise).then((value) => {\n",
              "    // Cache the last promise value to make it available to the next\n",
              "    // step of the generator.\n",
              "    outputElement.lastPromiseValue = value;\n",
              "    return next.value.response;\n",
              "  });\n",
              "}\n",
              "\n",
              "/**\n",
              " * Generator function which is called between each async step of the upload\n",
              " * process.\n",
              " * @param {string} inputId Element ID of the input file picker element.\n",
              " * @param {string} outputId Element ID of the output display.\n",
              " * @return {!Iterable<!Object>} Iterable of next steps.\n",
              " */\n",
              "function* uploadFilesStep(inputId, outputId) {\n",
              "  const inputElement = document.getElementById(inputId);\n",
              "  inputElement.disabled = false;\n",
              "\n",
              "  const outputElement = document.getElementById(outputId);\n",
              "  outputElement.innerHTML = '';\n",
              "\n",
              "  const pickedPromise = new Promise((resolve) => {\n",
              "    inputElement.addEventListener('change', (e) => {\n",
              "      resolve(e.target.files);\n",
              "    });\n",
              "  });\n",
              "\n",
              "  const cancel = document.createElement('button');\n",
              "  inputElement.parentElement.appendChild(cancel);\n",
              "  cancel.textContent = 'Cancel upload';\n",
              "  const cancelPromise = new Promise((resolve) => {\n",
              "    cancel.onclick = () => {\n",
              "      resolve(null);\n",
              "    };\n",
              "  });\n",
              "\n",
              "  // Wait for the user to pick the files.\n",
              "  const files = yield {\n",
              "    promise: Promise.race([pickedPromise, cancelPromise]),\n",
              "    response: {\n",
              "      action: 'starting',\n",
              "    }\n",
              "  };\n",
              "\n",
              "  cancel.remove();\n",
              "\n",
              "  // Disable the input element since further picks are not allowed.\n",
              "  inputElement.disabled = true;\n",
              "\n",
              "  if (!files) {\n",
              "    return {\n",
              "      response: {\n",
              "        action: 'complete',\n",
              "      }\n",
              "    };\n",
              "  }\n",
              "\n",
              "  for (const file of files) {\n",
              "    const li = document.createElement('li');\n",
              "    li.append(span(file.name, {fontWeight: 'bold'}));\n",
              "    li.append(span(\n",
              "        `(${file.type || 'n/a'}) - ${file.size} bytes, ` +\n",
              "        `last modified: ${\n",
              "            file.lastModifiedDate ? file.lastModifiedDate.toLocaleDateString() :\n",
              "                                    'n/a'} - `));\n",
              "    const percent = span('0% done');\n",
              "    li.appendChild(percent);\n",
              "\n",
              "    outputElement.appendChild(li);\n",
              "\n",
              "    const fileDataPromise = new Promise((resolve) => {\n",
              "      const reader = new FileReader();\n",
              "      reader.onload = (e) => {\n",
              "        resolve(e.target.result);\n",
              "      };\n",
              "      reader.readAsArrayBuffer(file);\n",
              "    });\n",
              "    // Wait for the data to be ready.\n",
              "    let fileData = yield {\n",
              "      promise: fileDataPromise,\n",
              "      response: {\n",
              "        action: 'continue',\n",
              "      }\n",
              "    };\n",
              "\n",
              "    // Use a chunked sending to avoid message size limits. See b/62115660.\n",
              "    let position = 0;\n",
              "    do {\n",
              "      const length = Math.min(fileData.byteLength - position, MAX_PAYLOAD_SIZE);\n",
              "      const chunk = new Uint8Array(fileData, position, length);\n",
              "      position += length;\n",
              "\n",
              "      const base64 = btoa(String.fromCharCode.apply(null, chunk));\n",
              "      yield {\n",
              "        response: {\n",
              "          action: 'append',\n",
              "          file: file.name,\n",
              "          data: base64,\n",
              "        },\n",
              "      };\n",
              "\n",
              "      let percentDone = fileData.byteLength === 0 ?\n",
              "          100 :\n",
              "          Math.round((position / fileData.byteLength) * 100);\n",
              "      percent.textContent = `${percentDone}% done`;\n",
              "\n",
              "    } while (position < fileData.byteLength);\n",
              "  }\n",
              "\n",
              "  // All done.\n",
              "  yield {\n",
              "    response: {\n",
              "      action: 'complete',\n",
              "    }\n",
              "  };\n",
              "}\n",
              "\n",
              "scope.google = scope.google || {};\n",
              "scope.google.colab = scope.google.colab || {};\n",
              "scope.google.colab._files = {\n",
              "  _uploadFiles,\n",
              "  _uploadFilesContinue,\n",
              "};\n",
              "})(self);\n",
              "</script> "
            ]
          },
          "metadata": {}
        },
        {
          "output_type": "stream",
          "name": "stdout",
          "text": [
            "Saving SpotifyDataset.csv to SpotifyDataset.csv\n"
          ]
        }
      ]
    },
    {
      "cell_type": "code",
      "source": [
        "file_length('spotify-dataset.py')"
      ],
      "metadata": {
        "colab": {
          "base_uri": "https://localhost:8080/"
        },
        "id": "v429SzyemGi-",
        "outputId": "b0c272e0-9d50-457a-8e80-ae34289b7ea1"
      },
      "execution_count": 9,
      "outputs": [
        {
          "output_type": "stream",
          "name": "stdout",
          "text": [
            "File spotify-dataset.py not found\n"
          ]
        }
      ]
    },
    {
      "cell_type": "code",
      "source": [
        "file_length('SpotifyDataset.csv')"
      ],
      "metadata": {
        "colab": {
          "base_uri": "https://localhost:8080/"
        },
        "id": "GKuh4kckmQCN",
        "outputId": "8fd8162e-044e-4d1c-aa02-831327d02f75"
      },
      "execution_count": 10,
      "outputs": [
        {
          "output_type": "stream",
          "name": "stdout",
          "text": [
            "1032784\n"
          ]
        }
      ]
    },
    {
      "cell_type": "markdown",
      "source": [
        "Question 3"
      ],
      "metadata": {
        "id": "C7mzarE7nAKD"
      }
    },
    {
      "cell_type": "code",
      "source": [
        "class Marsupial:\n",
        "\n",
        " #intilializing the list\n",
        "  c=[]\n",
        "\n",
        "  def __init__(self):\n",
        "      self.c=[]\n",
        "  \n",
        "\n",
        "  def put_in_pouch(self,component):\n",
        "    #adding new components for the list\n",
        "      self.c.append(component)\n",
        "\n",
        "  def pouch_contents(self):\n",
        "    #returning the list\n",
        "      return self.c"
      ],
      "metadata": {
        "id": "oitCDt3XmXfc"
      },
      "execution_count": 7,
      "outputs": []
    },
    {
      "cell_type": "code",
      "source": [
        "#declaring the class\n",
        "m=Marsupial()"
      ],
      "metadata": {
        "id": "2N5pEJgkn_iI"
      },
      "execution_count": 18,
      "outputs": []
    },
    {
      "cell_type": "code",
      "source": [
        "#executing the function in the class to add components to the list\n",
        "m.put_in_pouch('doll')"
      ],
      "metadata": {
        "id": "Xwx38uRzoFls"
      },
      "execution_count": 19,
      "outputs": []
    },
    {
      "cell_type": "code",
      "source": [
        "m.put_in_pouch('firetruck')"
      ],
      "metadata": {
        "id": "42X7tEXLoXA5"
      },
      "execution_count": 20,
      "outputs": []
    },
    {
      "cell_type": "code",
      "source": [
        "m.put_in_pouch('kitten')"
      ],
      "metadata": {
        "id": "NDXTulKBogj8"
      },
      "execution_count": 21,
      "outputs": []
    },
    {
      "cell_type": "code",
      "source": [
        "#inspecting the components in the list\n",
        "m.pouch_contents()"
      ],
      "metadata": {
        "colab": {
          "base_uri": "https://localhost:8080/"
        },
        "id": "K8W2QWn8on1C",
        "outputId": "dad4f261-41cf-41d0-b31b-639b9074014b"
      },
      "execution_count": 23,
      "outputs": [
        {
          "output_type": "execute_result",
          "data": {
            "text/plain": [
              "['doll', 'firetruck', 'kitten']"
            ]
          },
          "metadata": {},
          "execution_count": 23
        }
      ]
    },
    {
      "cell_type": "code",
      "source": [
        "class Kangaroo(Marsupial):\n",
        "  def __init__(self,x,y):\n",
        "    self.x=x\n",
        "    self.y=y\n",
        "\n",
        "  def jump(self,dx,dy):\n",
        "    #adding up the entered coordinates for dx when executing the jump function for both x and y\n",
        "    self.x=self.x+dx\n",
        "    self.y=self.y+dx\n",
        "\n",
        "  def __str__ (self):\n",
        "    #prints the coordinates\n",
        "    return \"I am a Kangaroo located at coordinates ({}.{})\".format(self.x,self.y)"
      ],
      "metadata": {
        "id": "keUrf5m8pt0G"
      },
      "execution_count": 24,
      "outputs": []
    },
    {
      "cell_type": "code",
      "source": [
        "#declaring the class\n",
        "k=Kangaroo(0,0)"
      ],
      "metadata": {
        "id": "wnbp9XfCsWI3"
      },
      "execution_count": 25,
      "outputs": []
    },
    {
      "cell_type": "code",
      "source": [
        "#printing the class after the initial declaration. Coordinates returned as (0.0) as the jump function is yet to be executed with values.\n",
        "print(k)"
      ],
      "metadata": {
        "colab": {
          "base_uri": "https://localhost:8080/"
        },
        "id": "LBgaNoPisc7i",
        "outputId": "a137b1b4-cc6a-45a2-be2f-f1ddb25e0bba"
      },
      "execution_count": 26,
      "outputs": [
        {
          "output_type": "stream",
          "name": "stdout",
          "text": [
            "I am a Kangaroo located at coordinates (0.0)\n"
          ]
        }
      ]
    },
    {
      "cell_type": "code",
      "source": [
        "#executing the jump function for the first time by entering value 1 for dx\n",
        "k.jump(1,0)"
      ],
      "metadata": {
        "id": "d9D3RRCgt-Mo"
      },
      "execution_count": 31,
      "outputs": []
    },
    {
      "cell_type": "code",
      "source": [
        "#executing the jump function for the second time by entering value 1 for dx\n",
        "k.jump(1,0)"
      ],
      "metadata": {
        "id": "aK2VSupFuDlF"
      },
      "execution_count": 32,
      "outputs": []
    },
    {
      "cell_type": "code",
      "source": [
        "#executing the jump function for the third time by entering value 1 for dx\n",
        "k.jump(1,0)"
      ],
      "metadata": {
        "id": "iVqDLQWauIZ4"
      },
      "execution_count": 33,
      "outputs": []
    },
    {
      "cell_type": "code",
      "source": [
        "#coordinates are retuned as 0 as dx is added to both x and y thrice\n",
        "print(k)"
      ],
      "metadata": {
        "colab": {
          "base_uri": "https://localhost:8080/"
        },
        "id": "5QsDzo7JuMYm",
        "outputId": "37b93b42-902e-4245-e70c-d9d9e63c39c3"
      },
      "execution_count": 34,
      "outputs": [
        {
          "output_type": "stream",
          "name": "stdout",
          "text": [
            "I am a Kangaroo located at coordinates (3.3)\n"
          ]
        }
      ]
    },
    {
      "cell_type": "markdown",
      "source": [
        "Question 4"
      ],
      "metadata": {
        "id": "YUD7N3Pauizk"
      }
    },
    {
      "cell_type": "code",
      "source": [
        "def collatz(x):\n",
        "\n",
        "  #captures if x is equals to 1\n",
        "  if(x==1):\n",
        "    print(1)\n",
        "\n",
        "  #captures if x is greater than 1 and x is divisible by 2\n",
        "  elif((x>1) and (x%2==0)):\n",
        "    print(x)\n",
        "    collatz(int(x/2))\n",
        "\n",
        "  #captures if x is greater than 2 and is not divisible by 2\n",
        "  elif((x>1) and (x%2==1)):\n",
        "    print(x)\n",
        "    collatz((3*x)+1)"
      ],
      "metadata": {
        "id": "Kueri4yiuksF"
      },
      "execution_count": 35,
      "outputs": []
    },
    {
      "cell_type": "code",
      "source": [
        "collatz(1)"
      ],
      "metadata": {
        "colab": {
          "base_uri": "https://localhost:8080/"
        },
        "id": "fOwQPSjkvz-c",
        "outputId": "33d8be13-3768-4466-e1aa-f7b421b6b42a"
      },
      "execution_count": 36,
      "outputs": [
        {
          "output_type": "stream",
          "name": "stdout",
          "text": [
            "1\n"
          ]
        }
      ]
    },
    {
      "cell_type": "code",
      "source": [
        "collatz(10)"
      ],
      "metadata": {
        "colab": {
          "base_uri": "https://localhost:8080/"
        },
        "id": "34xKsyKlv2oN",
        "outputId": "4d9f1abc-96ed-455d-be7e-9c58456b0dc9"
      },
      "execution_count": 37,
      "outputs": [
        {
          "output_type": "stream",
          "name": "stdout",
          "text": [
            "10\n",
            "5\n",
            "16\n",
            "8\n",
            "4\n",
            "2\n",
            "1\n"
          ]
        }
      ]
    },
    {
      "cell_type": "markdown",
      "source": [
        "Question 5"
      ],
      "metadata": {
        "id": "YOaQXpmaw4t4"
      }
    },
    {
      "cell_type": "code",
      "source": [
        "def binary(number):\n",
        "\n",
        "  #captures if the number is equals to 1 or 0\n",
        "  if((number==1) or (number==0)):\n",
        "\n",
        "    #1 or 0 returned\n",
        "    return str(number)\n",
        "  \n",
        "  #captures if the number is not equals to 1 or 0\n",
        "  else:\n",
        "\n",
        "    #remainders after dividing by 2  are added with the value after dividing by 2 (returned from the binary function)\n",
        "    return str((number%2))+binary(int(number/2))"
      ],
      "metadata": {
        "id": "1xxaxD8ew677"
      },
      "execution_count": 42,
      "outputs": []
    },
    {
      "cell_type": "code",
      "source": [
        "binary(0)"
      ],
      "metadata": {
        "colab": {
          "base_uri": "https://localhost:8080/",
          "height": 35
        },
        "id": "uCncjgIyxago",
        "outputId": "43bae38a-94ca-4b2e-f522-38f0c4eda180"
      },
      "execution_count": 43,
      "outputs": [
        {
          "output_type": "execute_result",
          "data": {
            "text/plain": [
              "'0'"
            ],
            "application/vnd.google.colaboratory.intrinsic+json": {
              "type": "string"
            }
          },
          "metadata": {},
          "execution_count": 43
        }
      ]
    },
    {
      "cell_type": "code",
      "source": [
        "binary(1)"
      ],
      "metadata": {
        "colab": {
          "base_uri": "https://localhost:8080/",
          "height": 35
        },
        "id": "8LFI_fg2xeOz",
        "outputId": "0ea2cbcc-a341-48f0-af9d-de2c3a38598c"
      },
      "execution_count": 44,
      "outputs": [
        {
          "output_type": "execute_result",
          "data": {
            "text/plain": [
              "'1'"
            ],
            "application/vnd.google.colaboratory.intrinsic+json": {
              "type": "string"
            }
          },
          "metadata": {},
          "execution_count": 44
        }
      ]
    },
    {
      "cell_type": "code",
      "source": [
        "binary(3)"
      ],
      "metadata": {
        "colab": {
          "base_uri": "https://localhost:8080/",
          "height": 35
        },
        "id": "eBtJN4eVxuqW",
        "outputId": "b204325f-5cbe-42be-b229-4a416613ba21"
      },
      "execution_count": 45,
      "outputs": [
        {
          "output_type": "execute_result",
          "data": {
            "text/plain": [
              "'11'"
            ],
            "application/vnd.google.colaboratory.intrinsic+json": {
              "type": "string"
            }
          },
          "metadata": {},
          "execution_count": 45
        }
      ]
    },
    {
      "cell_type": "code",
      "source": [
        "binary(9)"
      ],
      "metadata": {
        "colab": {
          "base_uri": "https://localhost:8080/",
          "height": 35
        },
        "id": "G-7C_hR4xx9z",
        "outputId": "ee676d4f-2f1f-4a89-f05d-1486f2922427"
      },
      "execution_count": 46,
      "outputs": [
        {
          "output_type": "execute_result",
          "data": {
            "text/plain": [
              "'1001'"
            ],
            "application/vnd.google.colaboratory.intrinsic+json": {
              "type": "string"
            }
          },
          "metadata": {},
          "execution_count": 46
        }
      ]
    },
    {
      "cell_type": "markdown",
      "source": [
        "Question 6"
      ],
      "metadata": {
        "id": "K2I4EpF0x28k"
      }
    },
    {
      "cell_type": "code",
      "source": [
        "from html.parser import HTMLParser\n",
        "\n",
        "class HeadingParser(HTMLParser):\n",
        "    def __init__(self):\n",
        "        HTMLParser.__init__(self)\n",
        "        self.r = 0 #recording\n",
        "        self.ht = [\"h1\",\"h2\",\"h3\",\"h4\",\"h5\",\"h6\"] #header tags\n",
        "        self.i = 0 #indent\n",
        "\n",
        "    def st(self, t, attrs): #start tag\n",
        "        if t in self.ht:\n",
        "            self.r = 1\n",
        "            self.i = int(t[-1])-1\n",
        "\n",
        "    def et(self, t): #end tag\n",
        "        if t in self.ht:\n",
        "            self.r -= 1\n",
        "            self.i = 0\n",
        "\n",
        "    def data(self, d):#data\n",
        "        if self.r:\n",
        "            print((\"\\t\"*self.i) + d)"
      ],
      "metadata": {
        "id": "gaOOnZcIx4yR"
      },
      "execution_count": 35,
      "outputs": []
    },
    {
      "cell_type": "code",
      "source": [
        "# from google.colab import files\n",
        "# uploaded=files.upload()"
      ],
      "metadata": {
        "id": "MiYH24sh7Uol"
      },
      "execution_count": 12,
      "outputs": []
    },
    {
      "cell_type": "code",
      "source": [
        "infile=open('w3c.html')"
      ],
      "metadata": {
        "id": "-4x__n-64pFT"
      },
      "execution_count": 36,
      "outputs": []
    },
    {
      "cell_type": "code",
      "source": [
        "content=infile.read()"
      ],
      "metadata": {
        "id": "akXioBEA4yA7"
      },
      "execution_count": 37,
      "outputs": []
    },
    {
      "cell_type": "code",
      "source": [
        "infile.close()"
      ],
      "metadata": {
        "id": "eU4c_ib843tQ"
      },
      "execution_count": 38,
      "outputs": []
    },
    {
      "cell_type": "code",
      "source": [
        "hp=HeadingParser()"
      ],
      "metadata": {
        "id": "SMcdxsE148qd"
      },
      "execution_count": 39,
      "outputs": []
    },
    {
      "cell_type": "code",
      "source": [
        "hp.feed(content)"
      ],
      "metadata": {
        "colab": {
          "base_uri": "https://localhost:8080/"
        },
        "id": "xUAxKyoH5A2k",
        "outputId": "8172a5b6-1826-49a0-c9f0-b78d54b9d1b5"
      },
      "execution_count": 40,
      "outputs": [
        {
          "output_type": "stream",
          "name": "stdout",
          "text": [
            "W3C Mission\n",
            "\tPrinciples\n"
          ]
        }
      ]
    },
    {
      "cell_type": "markdown",
      "source": [
        "Question 7"
      ],
      "metadata": {
        "id": "ttavslC2ReYQ"
      }
    },
    {
      "cell_type": "code",
      "source": [
        "from urllib.parse import urljoin\n",
        "from html.parser import HTMLParser\n",
        "class WebScrape(HTMLParser):\n",
        "\n",
        "  def __init__(self,url):\n",
        "\n",
        "    HTMLParser.__init__(self)\n",
        "    self.url=url\n",
        "    self.l=[] #links\n",
        "\n",
        "  def st(self,t,attrs): #start tag\n",
        "\n",
        "    if t=='a':\n",
        "      for attr in attrs:\n",
        "        if attr[0]=='href':\n",
        "          absolute=urljoin(self.url,attr[1])\n",
        "\n",
        "          if absolute[:4]=='http':\n",
        "            self.l.append(absolute)\n",
        "\n",
        "  def links(self): \n",
        "    return self.l\n"
      ],
      "metadata": {
        "id": "SboW4L-IRf8k"
      },
      "execution_count": 1,
      "outputs": []
    },
    {
      "cell_type": "code",
      "source": [
        "from urllib.request import urlopen\n",
        "from urllib.parse import urljoin\n",
        "from html.parser import HTMLParser\n",
        "\n",
        "def scrape(url):\n",
        "  content=urlopen(url).read().decode()\n",
        "  web_scrape=WebScrape(url)\n",
        "  web_scrape.feed(content)\n",
        "\n",
        "  urls=web_scrape.links()\n",
        "\n",
        "  return urls\n"
      ],
      "metadata": {
        "id": "2PJho2riYWSp"
      },
      "execution_count": 2,
      "outputs": []
    },
    {
      "cell_type": "code",
      "source": [
        "scrape('https://www.w3schools.com/')"
      ],
      "metadata": {
        "colab": {
          "base_uri": "https://localhost:8080/"
        },
        "id": "PFw01_XQbSwm",
        "outputId": "a743ebca-7ba7-48f8-ff2f-df0218e76ae9"
      },
      "execution_count": 3,
      "outputs": [
        {
          "output_type": "execute_result",
          "data": {
            "text/plain": [
              "['https://www.w3schools.com ',\n",
              " 'https://www.w3schools.com/signup/index.html',\n",
              " 'https://spaces.w3schools.com',\n",
              " 'https://www.w3schools.com/bootcamp/index.php',\n",
              " 'https://profile.w3schools.com/log-in?redirect_url=https%3A%2F%2Fmy-learning.w3schools.com',\n",
              " 'https://www.w3schools.com/spaces/index.html',\n",
              " 'https://shop.w3schools.com/collections/course-catalog',\n",
              " 'https://www.w3schools.com/pro/index.php',\n",
              " 'https://campus.w3schools.com/collections/course-catalog',\n",
              " 'https://www.w3schools.com/signup/index.html',\n",
              " 'https://www.w3schools.com/pro/index.php',\n",
              " 'https://www.w3schools.com/spaces/index.html',\n",
              " 'https://www.w3schools.com/bootcamp/index.php',\n",
              " 'https://shop.w3schools.com',\n",
              " 'https://www.w3schools.com/html/default.asp',\n",
              " 'https://www.w3schools.com/css/default.asp',\n",
              " 'https://www.w3schools.com/css/css_rwd_intro.asp',\n",
              " 'https://www.w3schools.com/bootstrap/bootstrap_ver.asp',\n",
              " 'https://www.w3schools.com/w3css/default.asp',\n",
              " 'https://www.w3schools.com/colors/default.asp',\n",
              " 'https://www.w3schools.com/icons/default.asp',\n",
              " 'https://www.w3schools.com/graphics/default.asp',\n",
              " 'https://www.w3schools.com/graphics/svg_intro.asp',\n",
              " 'https://www.w3schools.com/graphics/canvas_intro.asp',\n",
              " 'https://www.w3schools.com/howto/default.asp',\n",
              " 'https://www.w3schools.com/sass/default.php',\n",
              " 'https://www.w3schools.com/ai/default.asp',\n",
              " 'https://www.w3schools.com/python/python_ml_getting_started.asp',\n",
              " 'https://www.w3schools.com/datascience/default.asp',\n",
              " 'https://www.w3schools.com/python/numpy/default.asp',\n",
              " 'https://www.w3schools.com/python/pandas/default.asp',\n",
              " 'https://www.w3schools.com/python/scipy/index.php',\n",
              " 'https://www.w3schools.com/python/matplotlib_intro.asp',\n",
              " 'https://www.w3schools.com/statistics/index.php',\n",
              " 'https://www.w3schools.com/excel/index.php',\n",
              " 'https://www.w3schools.com/googlesheets/index.php',\n",
              " 'https://www.w3schools.com/xml/default.asp',\n",
              " 'https://www.w3schools.com/xml/ajax_intro.asp',\n",
              " 'https://www.w3schools.com/xml/dom_intro.asp',\n",
              " 'https://www.w3schools.com/xml/xml_dtd_intro.asp',\n",
              " 'https://www.w3schools.com/xml/schema_intro.asp',\n",
              " 'https://www.w3schools.com/xml/xsl_intro.asp',\n",
              " 'https://www.w3schools.com/xml/xpath_intro.asp',\n",
              " 'https://www.w3schools.com/xml/xquery_intro.asp',\n",
              " 'https://www.w3schools.com/js/default.asp',\n",
              " 'https://www.w3schools.com/jquery/default.asp',\n",
              " 'https://www.w3schools.com/react/default.asp',\n",
              " 'https://www.w3schools.com/angular/default.asp',\n",
              " 'https://www.w3schools.com/js/js_json_intro.asp',\n",
              " 'https://www.w3schools.com/js/js_ajax_intro.asp',\n",
              " 'https://www.w3schools.com/appml/default.asp',\n",
              " 'https://www.w3schools.com/w3js/default.asp',\n",
              " 'https://www.w3schools.com/python/default.asp',\n",
              " 'https://www.w3schools.com/java/default.asp',\n",
              " 'https://www.w3schools.com/c/index.php',\n",
              " 'https://www.w3schools.com/cpp/default.asp',\n",
              " 'https://www.w3schools.com/cs/index.php',\n",
              " 'https://www.w3schools.com/r/default.asp',\n",
              " 'https://www.w3schools.com/kotlin/index.php',\n",
              " 'https://www.w3schools.com/go/index.php',\n",
              " 'https://www.w3schools.com/django/index.php',\n",
              " 'https://www.w3schools.com/typescript/index.php',\n",
              " 'https://www.w3schools.com/sql/default.asp',\n",
              " 'https://www.w3schools.com/mysql/default.asp',\n",
              " 'https://www.w3schools.com/php/default.asp',\n",
              " 'https://www.w3schools.com/asp/default.asp',\n",
              " 'https://www.w3schools.com/nodejs/default.asp',\n",
              " 'https://www.w3schools.com/nodejs/nodejs_raspberrypi.asp',\n",
              " 'https://www.w3schools.com/git/default.asp',\n",
              " 'https://www.w3schools.com/mongodb/index.php',\n",
              " 'https://www.w3schools.com/aws/index.php',\n",
              " 'https://www.w3schools.com/spaces/index.html',\n",
              " 'https://www.w3schools.com/where_to_start.asp',\n",
              " 'https://www.w3schools.com/w3css/w3css_templates.asp',\n",
              " 'https://www.w3schools.com/browsers/default.asp',\n",
              " 'https://campus.w3schools.com',\n",
              " 'https://www.w3schools.com/whatis/default.asp',\n",
              " 'https://www.w3schools.com/tryit/default.asp',\n",
              " 'https://www.w3schools.com/typingspeed/default.asp',\n",
              " 'https://www.w3schools.com/codegame/index.html',\n",
              " 'https://www.w3schools.com/cybersecurity/index.php',\n",
              " 'https://www.w3schools.com/accessibility/index.php',\n",
              " 'https://campus.w3schools.com/pages/newsletter',\n",
              " 'https://www.w3schools.com/ai/default.asp',\n",
              " 'https://www.w3schools.com/python/python_ml_getting_started.asp',\n",
              " 'https://www.w3schools.com/datascience/default.asp',\n",
              " 'https://www.w3schools.com/python/numpy/default.asp',\n",
              " 'https://www.w3schools.com/python/pandas/default.asp',\n",
              " 'https://www.w3schools.com/python/scipy/index.php',\n",
              " 'https://www.w3schools.com/python/matplotlib_intro.asp',\n",
              " 'https://www.w3schools.com/statistics/index.php',\n",
              " 'https://www.w3schools.com/excel/index.php',\n",
              " 'https://www.w3schools.com/googlesheets/index.php',\n",
              " 'https://www.w3schools.com/xml/default.asp',\n",
              " 'https://www.w3schools.com/xml/ajax_intro.asp',\n",
              " 'https://www.w3schools.com/xml/dom_intro.asp',\n",
              " 'https://www.w3schools.com/xml/xml_dtd_intro.asp',\n",
              " 'https://www.w3schools.com/xml/schema_intro.asp',\n",
              " 'https://www.w3schools.com/xml/xsl_intro.asp',\n",
              " 'https://www.w3schools.com/xml/xpath_intro.asp',\n",
              " 'https://www.w3schools.com/xml/xquery_intro.asp',\n",
              " 'https://www.w3schools.com/tags/default.asp',\n",
              " 'https://www.w3schools.com/tags/ref_html_browsersupport.asp',\n",
              " 'https://www.w3schools.com/tags/ref_eventattributes.asp',\n",
              " 'https://www.w3schools.com/colors/default.asp',\n",
              " 'https://www.w3schools.com/tags/ref_attributes.asp',\n",
              " 'https://www.w3schools.com/tags/ref_canvas.asp',\n",
              " 'https://www.w3schools.com/graphics/svg_reference.asp',\n",
              " 'https://www.w3schools.com/graphics/google_maps_reference.asp',\n",
              " 'https://www.w3schools.com/cssref/index.php',\n",
              " 'https://www.w3schools.com/cssref/css3_browsersupport.asp',\n",
              " 'https://www.w3schools.com/cssref/css_selectors.asp',\n",
              " 'https://www.w3schools.com/bootstrap/bootstrap_ref_all_classes.asp',\n",
              " 'https://www.w3schools.com/bootstrap4/bootstrap_ref_all_classes.asp',\n",
              " 'https://www.w3schools.com/w3css/w3css_references.asp',\n",
              " 'https://www.w3schools.com/icons/icons_reference.asp',\n",
              " 'https://www.w3schools.com/sass/sass_functions_string.php',\n",
              " 'https://www.w3schools.com/jsref/default.asp',\n",
              " 'https://www.w3schools.com/jsref/default.asp',\n",
              " 'https://www.w3schools.com/jquery/jquery_ref_overview.asp',\n",
              " 'https://www.w3schools.com/angular/angular_ref_directives.asp',\n",
              " 'https://www.w3schools.com/appml/appml_reference.asp',\n",
              " 'https://www.w3schools.com/w3js/w3js_references.asp',\n",
              " 'https://www.w3schools.com/python/python_reference.asp',\n",
              " 'https://www.w3schools.com/java/java_ref_keywords.asp',\n",
              " 'https://www.w3schools.com/sql/sql_ref_keywords.asp',\n",
              " 'https://www.w3schools.com/mysql/mysql_ref_functions.asp',\n",
              " 'https://www.w3schools.com/php/php_ref_overview.asp',\n",
              " 'https://www.w3schools.com/asp/asp_ref_response.asp',\n",
              " 'https://www.w3schools.com/xml/dom_nodetype.asp',\n",
              " 'https://www.w3schools.com/xml/dom_http.asp',\n",
              " 'https://www.w3schools.com/xml/xsl_elementref.asp',\n",
              " 'https://www.w3schools.com/xml/schema_elements_ref.asp',\n",
              " 'https://www.w3schools.com/charsets/default.asp',\n",
              " 'https://www.w3schools.com/charsets/ref_html_ascii.asp',\n",
              " 'https://www.w3schools.com/charsets/ref_html_ansi.asp',\n",
              " 'https://www.w3schools.com/charsets/ref_html_ansi.asp',\n",
              " 'https://www.w3schools.com/charsets/ref_html_8859.asp',\n",
              " 'https://www.w3schools.com/charsets/ref_html_symbols.asp',\n",
              " 'https://www.w3schools.com/charsets/ref_html_utf8.asp',\n",
              " 'https://www.w3schools.com/exercises/index.php',\n",
              " 'https://www.w3schools.com/html/html_exercises.asp',\n",
              " 'https://www.w3schools.com/css/css_exercises.asp',\n",
              " 'https://www.w3schools.com/js/js_exercises.asp',\n",
              " 'https://www.w3schools.com/python/python_exercises.asp',\n",
              " 'https://www.w3schools.com/sql/sql_exercises.asp',\n",
              " 'https://www.w3schools.com/php/php_exercises.asp',\n",
              " 'https://www.w3schools.com/java/java_exercises.asp',\n",
              " 'https://www.w3schools.com/c/c_exercises.php',\n",
              " 'https://www.w3schools.com/cpp/cpp_exercises.asp',\n",
              " 'https://www.w3schools.com/cs/cs_exercises.asp',\n",
              " 'https://www.w3schools.com/jquery/jquery_exercises.asp',\n",
              " 'https://www.w3schools.com/react/react_exercises.asp',\n",
              " 'https://www.w3schools.com/mysql/mysql_exercises.asp',\n",
              " 'https://www.w3schools.com/bootstrap5/bootstrap_exercises.php',\n",
              " 'https://www.w3schools.com/bootstrap4/bootstrap_exercises.asp',\n",
              " 'https://www.w3schools.com/bootstrap/bootstrap_exercises.asp',\n",
              " 'https://www.w3schools.com/python/numpy/numpy_exercises.asp',\n",
              " 'https://www.w3schools.com/python/pandas/pandas_exercises.asp',\n",
              " 'https://www.w3schools.com/python/scipy/scipy_exercises.php',\n",
              " 'https://www.w3schools.com/typescript/typescript_exercises.php',\n",
              " 'https://www.w3schools.com/excel/excel_exercises.php',\n",
              " 'https://www.w3schools.com/r/r_exercises.asp',\n",
              " 'https://www.w3schools.com/git/git_exercises.asp',\n",
              " 'https://www.w3schools.com/kotlin/kotlin_exercises.php',\n",
              " 'https://www.w3schools.com/go/go_exercises.php',\n",
              " 'https://www.w3schools.com/mongodb/mongodb_exercises.php',\n",
              " 'https://www.w3schools.com/quiztest/default.asp',\n",
              " 'https://www.w3schools.com/html/html_quiz.asp',\n",
              " 'https://www.w3schools.com/css/css_quiz.asp',\n",
              " 'https://www.w3schools.com/js/js_quiz.asp',\n",
              " 'https://www.w3schools.com/python/python_quiz.asp',\n",
              " 'https://www.w3schools.com/sql/sql_quiz.asp',\n",
              " 'https://www.w3schools.com/php/php_quiz.asp',\n",
              " 'https://www.w3schools.com/java/java_quiz.asp',\n",
              " 'https://www.w3schools.com/c/c_quiz.php',\n",
              " 'https://www.w3schools.com/cpp/cpp_quiz.asp',\n",
              " 'https://www.w3schools.com/cs/cs_quiz.asp',\n",
              " 'https://www.w3schools.com/jquery/jquery_quiz.asp',\n",
              " 'https://www.w3schools.com/react/react_quiz.asp',\n",
              " 'https://www.w3schools.com/mysql/mysql_quiz.asp',\n",
              " 'https://www.w3schools.com/bootstrap5/bootstrap_quiz.php',\n",
              " 'https://www.w3schools.com/bootstrap4/bootstrap_quiz.asp',\n",
              " 'https://www.w3schools.com/bootstrap/bootstrap_quiz.asp',\n",
              " 'https://www.w3schools.com/python/numpy/numpy_quiz.asp',\n",
              " 'https://www.w3schools.com/python/pandas/pandas_quiz.asp',\n",
              " 'https://www.w3schools.com/python/scipy/scipy_quiz.php',\n",
              " 'https://www.w3schools.com/typescript/typescript_quiz.php',\n",
              " 'https://www.w3schools.com/xml/xml_quiz.asp',\n",
              " 'https://www.w3schools.com/r/r_quiz.asp',\n",
              " 'https://www.w3schools.com/git/git_quiz.asp',\n",
              " 'https://www.w3schools.com/kotlin/kotlin_quiz.php',\n",
              " 'https://www.w3schools.com/cybersecurity/cybersecurity_quiz.php',\n",
              " 'https://www.w3schools.com/accessibility/accessibility_quiz.php',\n",
              " 'https://campus.w3schools.com/collections/course-catalog',\n",
              " 'https://campus.w3schools.com/collections/course-catalog/products/html-course',\n",
              " 'https://campus.w3schools.com/collections/course-catalog/products/css-course',\n",
              " 'https://campus.w3schools.com/collections/course-catalog/products/javascript-course',\n",
              " 'https://campus.w3schools.com/collections/course-catalog/products/front-end-course',\n",
              " 'https://campus.w3schools.com/collections/course-catalog/products/python-course',\n",
              " 'https://campus.w3schools.com/collections/course-catalog/products/sql-course',\n",
              " 'https://campus.w3schools.com/collections/course-catalog/products/php-course',\n",
              " 'https://campus.w3schools.com/collections/course-catalog/products/java-course',\n",
              " 'https://campus.w3schools.com/collections/course-catalog/products/c-course-1',\n",
              " 'https://campus.w3schools.com/collections/course-catalog/products/c-course',\n",
              " 'https://campus.w3schools.com/collections/course-catalog/products/jquery-course',\n",
              " 'https://campus.w3schools.com/collections/course-catalog/products/react-js-course',\n",
              " 'https://campus.w3schools.com/collections/course-catalog/products/bootstrap-4-course',\n",
              " 'https://campus.w3schools.com/collections/course-catalog/products/bootstrap-course',\n",
              " 'https://campus.w3schools.com/collections/course-catalog/products/numpy-course',\n",
              " 'https://campus.w3schools.com/collections/course-catalog/products/pandas-course',\n",
              " 'https://campus.w3schools.com/collections/course-catalog/products/learn-typescript',\n",
              " 'https://campus.w3schools.com/collections/course-catalog/products/xml-course',\n",
              " 'https://campus.w3schools.com/collections/course-catalog/products/r-course',\n",
              " 'https://campus.w3schools.com/collections/course-catalog/products/data-analytics-program',\n",
              " 'https://campus.w3schools.com/collections/course-catalog/products/cyber-security-course',\n",
              " 'https://campus.w3schools.com/collections/course-catalog/products/accessibility-course',\n",
              " 'https://campus.w3schools.com/collections/certifications',\n",
              " 'https://campus.w3schools.com/collections/certifications/products/html-certificate',\n",
              " 'https://campus.w3schools.com/collections/certifications/products/css-certificate',\n",
              " 'https://campus.w3schools.com/collections/certifications/products/javascript-certificate',\n",
              " 'https://campus.w3schools.com/collections/certifications/products/front-end-certificate',\n",
              " 'https://campus.w3schools.com/collections/certifications/products/python-certificate',\n",
              " 'https://campus.w3schools.com/collections/certifications/products/sql-certificate',\n",
              " 'https://campus.w3schools.com/collections/certifications/products/php-certificate',\n",
              " 'https://campus.w3schools.com/collections/certifications/products/java-certificate',\n",
              " 'https://campus.w3schools.com/collections/certifications/products/c-certificate',\n",
              " 'https://campus.w3schools.com/collections/certifications/products/c-certificate-1',\n",
              " 'https://campus.w3schools.com/collections/certifications/products/jquery-certificate',\n",
              " 'https://campus.w3schools.com/collections/certifications/products/react-js-certificate',\n",
              " 'https://campus.w3schools.com/collections/certifications/products/mysql-certificate',\n",
              " 'https://campus.w3schools.com/collections/certifications/products/bootstrap-5-certificate',\n",
              " 'https://campus.w3schools.com/collections/certifications/products/bootstrap-4-certificate',\n",
              " 'https://campus.w3schools.com/collections/certifications/products/bootstrap-3-certificate',\n",
              " 'https://campus.w3schools.com/collections/certifications/products/typescript-certificate',\n",
              " 'https://campus.w3schools.com/collections/certifications/products/xml-certificate',\n",
              " 'https://campus.w3schools.com/collections/certifications/products/excel-certificate',\n",
              " 'https://campus.w3schools.com/collections/certifications/products/data-science-certificate',\n",
              " 'https://campus.w3schools.com/collections/certifications/products/cyber-security-certificate',\n",
              " 'https://campus.w3schools.com/collections/certifications/products/accessibility-certificate',\n",
              " 'https://www.w3schools.com/where_to_start.asp',\n",
              " 'https://www.w3schools.com/html/default.asp',\n",
              " 'https://www.w3schools.com/tags/default.asp',\n",
              " 'https://shop.w3schools.com/collections/certifications/products/html-certificate',\n",
              " 'https://www.w3schools.com/html/tryit.asp?filename=tryhtml_default_default',\n",
              " 'https://www.w3schools.com/css/default.asp',\n",
              " 'https://www.w3schools.com/cssref/index.php',\n",
              " 'https://shop.w3schools.com/collections/certifications/products/css-certificate',\n",
              " 'https://www.w3schools.com/css/tryit.asp?filename=trycss_default',\n",
              " 'https://www.w3schools.com/js/default.asp',\n",
              " 'https://www.w3schools.com/jsref/default.asp',\n",
              " 'https://shop.w3schools.com/collections/certifications/products/javascript-certificate',\n",
              " 'https://www.w3schools.com/js/tryit.asp?filename=tryjs_default',\n",
              " 'https://www.w3schools.com/python/default.asp',\n",
              " 'https://www.w3schools.com/python/python_reference.asp',\n",
              " 'https://shop.w3schools.com/collections/certifications/products/python-certificate',\n",
              " 'https://www.w3schools.com/python/trypython.asp?filename=demo_indentation',\n",
              " 'https://www.w3schools.com/sql/default.asp',\n",
              " 'https://www.w3schools.com/sql/sql_ref_keywords.asp',\n",
              " 'https://shop.w3schools.com/collections/certifications/products/sql-certificate',\n",
              " 'https://www.w3schools.com/sql/trysql.asp?filename=trysql_select_where',\n",
              " 'https://www.w3schools.com/php/default.asp',\n",
              " 'https://www.w3schools.com/jquery/default.asp',\n",
              " 'https://www.w3schools.com/java/default.asp',\n",
              " 'https://www.w3schools.com/cpp/default.asp',\n",
              " 'https://www.w3schools.com/w3css/default.asp',\n",
              " 'https://www.w3schools.com/bootstrap/bootstrap_ver.asp',\n",
              " 'https://www.w3schools.com/c/index.php',\n",
              " 'https://www.w3schools.com/cs/index.php',\n",
              " 'https://www.w3schools.com/r/default.asp',\n",
              " 'https://www.w3schools.com/kotlin/index.php',\n",
              " 'https://www.w3schools.com/nodejs/default.asp',\n",
              " 'https://www.w3schools.com/react/default.asp',\n",
              " 'https://www.w3schools.com/js/js_json.asp',\n",
              " 'https://www.w3schools.com/angular/default.asp',\n",
              " 'https://www.w3schools.com/mysql/default.asp',\n",
              " 'https://www.w3schools.com/xml/default.asp',\n",
              " 'https://www.w3schools.com/sass/default.php',\n",
              " 'https://www.w3schools.com/icons/default.asp',\n",
              " 'https://www.w3schools.com/css/css_rwd_intro.asp',\n",
              " 'https://www.w3schools.com/graphics/default.asp',\n",
              " 'https://www.w3schools.com/graphics/svg_intro.asp',\n",
              " 'https://www.w3schools.com/graphics/canvas_intro.asp',\n",
              " 'https://www.w3schools.com/nodejs/nodejs_raspberrypi.asp',\n",
              " 'https://www.w3schools.com/cybersecurity/index.php',\n",
              " 'https://www.w3schools.com/colors/default.asp',\n",
              " 'https://www.w3schools.com/git/default.asp',\n",
              " 'https://www.w3schools.com/python/matplotlib_intro.asp',\n",
              " 'https://www.w3schools.com/python/numpy/default.asp',\n",
              " 'https://www.w3schools.com/python/pandas/default.asp',\n",
              " 'https://www.w3schools.com/python/scipy/index.php',\n",
              " 'https://www.w3schools.com/asp/default.asp',\n",
              " 'https://www.w3schools.com/accessibility/index.php',\n",
              " 'https://www.w3schools.com/appml/default.asp',\n",
              " 'https://www.w3schools.com/go/index.php',\n",
              " 'https://www.w3schools.com/typescript/index.php',\n",
              " 'https://www.w3schools.com/django/index.php',\n",
              " 'https://www.w3schools.com/mongodb/index.php',\n",
              " 'https://www.w3schools.com/statistics/index.php',\n",
              " 'https://www.w3schools.com/datascience/default.asp',\n",
              " 'https://www.w3schools.com/typingspeed/default.asp',\n",
              " 'https://www.w3schools.com/excel/index.php',\n",
              " 'https://www.w3schools.com/googlesheets/index.php',\n",
              " 'https://www.w3schools.com/python/python_ml_getting_started.asp',\n",
              " 'https://www.w3schools.com/ai/default.asp',\n",
              " 'https://www.w3schools.com/tryit/tryit.asp?filename=tryhtml_hello',\n",
              " 'https://www.w3schools.com/tryit/trycompiler.asp?filename=demo_python',\n",
              " 'https://www.w3schools.com/spaces/index.html',\n",
              " 'https://www.w3schools.com/spaces/index.html',\n",
              " 'https://profile.w3schools.com/sign-up?redirect_url=https%3A%2F%2Fmy-learning.w3schools.com%2F',\n",
              " 'https://www.w3schools.com/spaces/index.html',\n",
              " 'https://www.w3schools.com/videos/index.php',\n",
              " 'https://www.w3schools.com/pro/index.php',\n",
              " 'https://www.w3schools.com/colors/colors_picker.asp',\n",
              " 'https://www.w3schools.com/codegame/index.html',\n",
              " 'https://www.w3schools.com/codegame/index.html',\n",
              " 'https://www.w3schools.com/exercises/index.php',\n",
              " 'https://www.w3schools.com/quiztest/default.asp',\n",
              " 'https://www.w3schools.com/w3css/w3css_templates.asp',\n",
              " 'https://www.w3schools.com/w3css/w3css_templates.asp',\n",
              " 'https://shop.w3schools.com/collections/course-catalog',\n",
              " 'https://www.w3schools.com/howto/default.asp',\n",
              " 'https://www.w3schools.com/quiztest/default.asp',\n",
              " 'https://www.w3schools.com/exercises/index.php',\n",
              " 'https://shop.w3schools.com/collections/course-catalog',\n",
              " 'https://www.w3schools.com/pro/index.php',\n",
              " 'https://www.w3schools.com/spaces/index.html',\n",
              " 'https://support.w3schools.com',\n",
              " 'https://campus.w3schools.com/pages/newsletter',\n",
              " 'https://www.w3schools.com/quiztest/default.asp',\n",
              " 'https://www.w3schools.com/exercises/index.php',\n",
              " 'https://support.w3schools.com',\n",
              " 'https://www.w3schools.com/forum/default.asp',\n",
              " 'https://www.w3schools.com/about/default.asp',\n",
              " 'https://shop.w3schools.com/collections/course-catalog',\n",
              " 'https://www.w3schools.com/pro/index.php',\n",
              " 'https://www.w3schools.com/spaces/index.html',\n",
              " 'https://campus.w3schools.com/pages/newsletter',\n",
              " 'https://www.w3schools.com/forum/default.asp',\n",
              " 'https://www.w3schools.com/about/default.asp',\n",
              " 'https://discord.gg/6Z7UaRbUQM',\n",
              " 'https://www.linkedin.com/company/w3schools.com/',\n",
              " 'https://www.instagram.com/w3schools.com_official/',\n",
              " 'https://www.facebook.com/w3schoolscom/',\n",
              " 'https://www.w3schools.com/about/about_copyright.asp',\n",
              " 'https://www.w3schools.com/about/about_privacy.asp',\n",
              " 'https://www.w3schools.com/about/about_copyright.asp']"
            ]
          },
          "metadata": {},
          "execution_count": 3
        }
      ]
    },
    {
      "cell_type": "code",
      "source": [
        "visit_track = []\n",
        "\n",
        "def webdir(url,depth,indent):\n",
        "    print((indent*\"\\t\")+url)\n",
        "    \n",
        "    #assign URL to visit_track variable\n",
        "    global visit_track\n",
        "    visit_track.append(url)\n",
        "    \n",
        "    #scrape hyperlinks from URL\n",
        "    links = scrape(url)\n",
        "    \n",
        "    if (depth>0):\n",
        "        for l in links:\n",
        "            if l not in visit_track:\n",
        "                try:\n",
        "                    webdir(l,depth-1,indent+1)\n",
        "                except: pass"
      ],
      "metadata": {
        "id": "p-DR5FM2b1xO"
      },
      "execution_count": 4,
      "outputs": []
    },
    {
      "cell_type": "code",
      "source": [
        "\n",
        "url = \"https://www.w3schools.com/\""
      ],
      "metadata": {
        "id": "JMNEIEW9eGgV"
      },
      "execution_count": 5,
      "outputs": []
    },
    {
      "cell_type": "code",
      "source": [
        "webdir(url,2,0)"
      ],
      "metadata": {
        "colab": {
          "base_uri": "https://localhost:8080/"
        },
        "id": "7s35YNKlePBY",
        "outputId": "dca220f6-b900-4125-e17e-b97013a422fa"
      },
      "execution_count": 6,
      "outputs": [
        {
          "output_type": "stream",
          "name": "stdout",
          "text": [
            "https://www.w3schools.com/\n",
            "\thttps://www.w3schools.com \n",
            "\t\thttps://www.w3schools.com /signup/index.html\n",
            "\t\thttps://spaces.w3schools.com\n",
            "\t\thttps://www.w3schools.com /bootcamp/index.php\n",
            "\t\thttps://profile.w3schools.com/log-in?redirect_url=https%3A%2F%2Fmy-learning.w3schools.com\n",
            "\t\thttps://www.w3schools.com /spaces/index.html\n",
            "\t\thttps://shop.w3schools.com/collections/course-catalog\n",
            "\t\thttps://www.w3schools.com /pro/index.php\n",
            "\t\thttps://campus.w3schools.com/collections/course-catalog\n",
            "\t\thttps://shop.w3schools.com\n",
            "\t\thttps://www.w3schools.com /html/default.asp\n",
            "\t\thttps://www.w3schools.com /css/default.asp\n",
            "\t\thttps://www.w3schools.com /css/css_rwd_intro.asp\n",
            "\t\thttps://www.w3schools.com /bootstrap/bootstrap_ver.asp\n",
            "\t\thttps://www.w3schools.com /w3css/default.asp\n",
            "\t\thttps://www.w3schools.com /colors/default.asp\n",
            "\t\thttps://www.w3schools.com /icons/default.asp\n",
            "\t\thttps://www.w3schools.com /graphics/default.asp\n",
            "\t\thttps://www.w3schools.com /graphics/svg_intro.asp\n",
            "\t\thttps://www.w3schools.com /graphics/canvas_intro.asp\n",
            "\t\thttps://www.w3schools.com /howto/default.asp\n",
            "\t\thttps://www.w3schools.com /sass/default.php\n",
            "\t\thttps://www.w3schools.com /ai/default.asp\n",
            "\t\thttps://www.w3schools.com /python/python_ml_getting_started.asp\n",
            "\t\thttps://www.w3schools.com /datascience/default.asp\n",
            "\t\thttps://www.w3schools.com /python/numpy/default.asp\n",
            "\t\thttps://www.w3schools.com /python/pandas/default.asp\n",
            "\t\thttps://www.w3schools.com /python/scipy/index.php\n",
            "\t\thttps://www.w3schools.com /python/matplotlib_intro.asp\n",
            "\t\thttps://www.w3schools.com /statistics/index.php\n",
            "\t\thttps://www.w3schools.com /excel/index.php\n",
            "\t\thttps://www.w3schools.com /googlesheets/index.php\n",
            "\t\thttps://www.w3schools.com /xml/default.asp\n",
            "\t\thttps://www.w3schools.com /xml/ajax_intro.asp\n",
            "\t\thttps://www.w3schools.com /xml/dom_intro.asp\n",
            "\t\thttps://www.w3schools.com /xml/xml_dtd_intro.asp\n",
            "\t\thttps://www.w3schools.com /xml/schema_intro.asp\n",
            "\t\thttps://www.w3schools.com /xml/xsl_intro.asp\n",
            "\t\thttps://www.w3schools.com /xml/xpath_intro.asp\n",
            "\t\thttps://www.w3schools.com /xml/xquery_intro.asp\n",
            "\t\thttps://www.w3schools.com /js/default.asp\n",
            "\t\thttps://www.w3schools.com /jquery/default.asp\n",
            "\t\thttps://www.w3schools.com /react/default.asp\n",
            "\t\thttps://www.w3schools.com /angular/default.asp\n",
            "\t\thttps://www.w3schools.com /js/js_json_intro.asp\n",
            "\t\thttps://www.w3schools.com /js/js_ajax_intro.asp\n",
            "\t\thttps://www.w3schools.com /appml/default.asp\n",
            "\t\thttps://www.w3schools.com /w3js/default.asp\n",
            "\t\thttps://www.w3schools.com /python/default.asp\n",
            "\t\thttps://www.w3schools.com /java/default.asp\n",
            "\t\thttps://www.w3schools.com /c/index.php\n",
            "\t\thttps://www.w3schools.com /cpp/default.asp\n",
            "\t\thttps://www.w3schools.com /cs/index.php\n",
            "\t\thttps://www.w3schools.com /r/default.asp\n",
            "\t\thttps://www.w3schools.com /kotlin/index.php\n",
            "\t\thttps://www.w3schools.com /go/index.php\n",
            "\t\thttps://www.w3schools.com /django/index.php\n",
            "\t\thttps://www.w3schools.com /typescript/index.php\n",
            "\t\thttps://www.w3schools.com /sql/default.asp\n",
            "\t\thttps://www.w3schools.com /mysql/default.asp\n",
            "\t\thttps://www.w3schools.com /php/default.asp\n",
            "\t\thttps://www.w3schools.com /asp/default.asp\n",
            "\t\thttps://www.w3schools.com /nodejs/default.asp\n",
            "\t\thttps://www.w3schools.com /nodejs/nodejs_raspberrypi.asp\n",
            "\t\thttps://www.w3schools.com /git/default.asp\n",
            "\t\thttps://www.w3schools.com /mongodb/index.php\n",
            "\t\thttps://www.w3schools.com /aws/index.php\n",
            "\t\thttps://www.w3schools.com /where_to_start.asp\n",
            "\t\thttps://www.w3schools.com /w3css/w3css_templates.asp\n",
            "\t\thttps://www.w3schools.com /browsers/default.asp\n",
            "\t\thttps://campus.w3schools.com\n",
            "\t\thttps://www.w3schools.com /whatis/default.asp\n",
            "\t\thttps://www.w3schools.com /tryit/default.asp\n",
            "\t\thttps://www.w3schools.com /typingspeed/default.asp\n",
            "\t\thttps://www.w3schools.com /codegame/index.html\n",
            "\t\thttps://www.w3schools.com /cybersecurity/index.php\n",
            "\t\thttps://www.w3schools.com /accessibility/index.php\n",
            "\t\thttps://campus.w3schools.com/pages/newsletter\n",
            "\t\thttps://www.w3schools.com /tags/default.asp\n",
            "\t\thttps://www.w3schools.com /tags/ref_html_browsersupport.asp\n",
            "\t\thttps://www.w3schools.com /tags/ref_eventattributes.asp\n",
            "\t\thttps://www.w3schools.com /tags/ref_attributes.asp\n",
            "\t\thttps://www.w3schools.com /tags/ref_canvas.asp\n",
            "\t\thttps://www.w3schools.com /graphics/svg_reference.asp\n",
            "\t\thttps://www.w3schools.com /graphics/google_maps_reference.asp\n",
            "\t\thttps://www.w3schools.com /cssref/index.php\n",
            "\t\thttps://www.w3schools.com /cssref/css3_browsersupport.asp\n",
            "\t\thttps://www.w3schools.com /cssref/css_selectors.asp\n",
            "\t\thttps://www.w3schools.com /bootstrap/bootstrap_ref_all_classes.asp\n",
            "\t\thttps://www.w3schools.com /bootstrap4/bootstrap_ref_all_classes.asp\n",
            "\t\thttps://www.w3schools.com /w3css/w3css_references.asp\n",
            "\t\thttps://www.w3schools.com /icons/icons_reference.asp\n",
            "\t\thttps://www.w3schools.com /sass/sass_functions_string.php\n",
            "\t\thttps://www.w3schools.com /jsref/default.asp\n",
            "\t\thttps://www.w3schools.com /jquery/jquery_ref_overview.asp\n",
            "\t\thttps://www.w3schools.com /angular/angular_ref_directives.asp\n",
            "\t\thttps://www.w3schools.com /appml/appml_reference.asp\n",
            "\t\thttps://www.w3schools.com /w3js/w3js_references.asp\n",
            "\t\thttps://www.w3schools.com /python/python_reference.asp\n",
            "\t\thttps://www.w3schools.com /java/java_ref_keywords.asp\n",
            "\t\thttps://www.w3schools.com /sql/sql_ref_keywords.asp\n",
            "\t\thttps://www.w3schools.com /mysql/mysql_ref_functions.asp\n",
            "\t\thttps://www.w3schools.com /php/php_ref_overview.asp\n",
            "\t\thttps://www.w3schools.com /asp/asp_ref_response.asp\n",
            "\t\thttps://www.w3schools.com /xml/dom_nodetype.asp\n",
            "\t\thttps://www.w3schools.com /xml/dom_http.asp\n",
            "\t\thttps://www.w3schools.com /xml/xsl_elementref.asp\n",
            "\t\thttps://www.w3schools.com /xml/schema_elements_ref.asp\n",
            "\t\thttps://www.w3schools.com /charsets/default.asp\n",
            "\t\thttps://www.w3schools.com /charsets/ref_html_ascii.asp\n",
            "\t\thttps://www.w3schools.com /charsets/ref_html_ansi.asp\n",
            "\t\thttps://www.w3schools.com /charsets/ref_html_8859.asp\n",
            "\t\thttps://www.w3schools.com /charsets/ref_html_symbols.asp\n",
            "\t\thttps://www.w3schools.com /charsets/ref_html_utf8.asp\n",
            "\t\thttps://www.w3schools.com /exercises/index.php\n",
            "\t\thttps://www.w3schools.com /html/html_exercises.asp\n",
            "\t\thttps://www.w3schools.com /css/css_exercises.asp\n",
            "\t\thttps://www.w3schools.com /js/js_exercises.asp\n",
            "\t\thttps://www.w3schools.com /python/python_exercises.asp\n",
            "\t\thttps://www.w3schools.com /sql/sql_exercises.asp\n",
            "\t\thttps://www.w3schools.com /php/php_exercises.asp\n",
            "\t\thttps://www.w3schools.com /java/java_exercises.asp\n",
            "\t\thttps://www.w3schools.com /c/c_exercises.php\n",
            "\t\thttps://www.w3schools.com /cpp/cpp_exercises.asp\n",
            "\t\thttps://www.w3schools.com /cs/cs_exercises.asp\n",
            "\t\thttps://www.w3schools.com /jquery/jquery_exercises.asp\n",
            "\t\thttps://www.w3schools.com /react/react_exercises.asp\n",
            "\t\thttps://www.w3schools.com /mysql/mysql_exercises.asp\n",
            "\t\thttps://www.w3schools.com /bootstrap5/bootstrap_exercises.php\n",
            "\t\thttps://www.w3schools.com /bootstrap4/bootstrap_exercises.asp\n",
            "\t\thttps://www.w3schools.com /bootstrap/bootstrap_exercises.asp\n",
            "\t\thttps://www.w3schools.com /python/numpy/numpy_exercises.asp\n",
            "\t\thttps://www.w3schools.com /python/pandas/pandas_exercises.asp\n",
            "\t\thttps://www.w3schools.com /python/scipy/scipy_exercises.php\n",
            "\t\thttps://www.w3schools.com /typescript/typescript_exercises.php\n",
            "\t\thttps://www.w3schools.com /excel/excel_exercises.php\n",
            "\t\thttps://www.w3schools.com /r/r_exercises.asp\n",
            "\t\thttps://www.w3schools.com /git/git_exercises.asp\n",
            "\t\thttps://www.w3schools.com /kotlin/kotlin_exercises.php\n",
            "\t\thttps://www.w3schools.com /go/go_exercises.php\n",
            "\t\thttps://www.w3schools.com /mongodb/mongodb_exercises.php\n",
            "\t\thttps://www.w3schools.com /quiztest/default.asp\n",
            "\t\thttps://www.w3schools.com /html/html_quiz.asp\n",
            "\t\thttps://www.w3schools.com /css/css_quiz.asp\n",
            "\t\thttps://www.w3schools.com /js/js_quiz.asp\n",
            "\t\thttps://www.w3schools.com /python/python_quiz.asp\n",
            "\t\thttps://www.w3schools.com /sql/sql_quiz.asp\n",
            "\t\thttps://www.w3schools.com /php/php_quiz.asp\n",
            "\t\thttps://www.w3schools.com /java/java_quiz.asp\n",
            "\t\thttps://www.w3schools.com /c/c_quiz.php\n",
            "\t\thttps://www.w3schools.com /cpp/cpp_quiz.asp\n",
            "\t\thttps://www.w3schools.com /cs/cs_quiz.asp\n",
            "\t\thttps://www.w3schools.com /jquery/jquery_quiz.asp\n",
            "\t\thttps://www.w3schools.com /react/react_quiz.asp\n",
            "\t\thttps://www.w3schools.com /mysql/mysql_quiz.asp\n",
            "\t\thttps://www.w3schools.com /bootstrap5/bootstrap_quiz.php\n",
            "\t\thttps://www.w3schools.com /bootstrap4/bootstrap_quiz.asp\n",
            "\t\thttps://www.w3schools.com /bootstrap/bootstrap_quiz.asp\n",
            "\t\thttps://www.w3schools.com /python/numpy/numpy_quiz.asp\n",
            "\t\thttps://www.w3schools.com /python/pandas/pandas_quiz.asp\n",
            "\t\thttps://www.w3schools.com /python/scipy/scipy_quiz.php\n",
            "\t\thttps://www.w3schools.com /typescript/typescript_quiz.php\n",
            "\t\thttps://www.w3schools.com /xml/xml_quiz.asp\n",
            "\t\thttps://www.w3schools.com /r/r_quiz.asp\n",
            "\t\thttps://www.w3schools.com /git/git_quiz.asp\n",
            "\t\thttps://www.w3schools.com /kotlin/kotlin_quiz.php\n",
            "\t\thttps://www.w3schools.com /cybersecurity/cybersecurity_quiz.php\n",
            "\t\thttps://www.w3schools.com /accessibility/accessibility_quiz.php\n",
            "\t\thttps://campus.w3schools.com/collections/course-catalog/products/html-course\n",
            "\t\thttps://campus.w3schools.com/collections/course-catalog/products/css-course\n",
            "\t\thttps://campus.w3schools.com/collections/course-catalog/products/javascript-course\n",
            "\t\thttps://campus.w3schools.com/collections/course-catalog/products/front-end-course\n",
            "\t\thttps://campus.w3schools.com/collections/course-catalog/products/python-course\n",
            "\t\thttps://campus.w3schools.com/collections/course-catalog/products/sql-course\n",
            "\t\thttps://campus.w3schools.com/collections/course-catalog/products/php-course\n",
            "\t\thttps://campus.w3schools.com/collections/course-catalog/products/java-course\n",
            "\t\thttps://campus.w3schools.com/collections/course-catalog/products/c-course-1\n",
            "\t\thttps://campus.w3schools.com/collections/course-catalog/products/c-course\n",
            "\t\thttps://campus.w3schools.com/collections/course-catalog/products/jquery-course\n",
            "\t\thttps://campus.w3schools.com/collections/course-catalog/products/react-js-course\n",
            "\t\thttps://campus.w3schools.com/collections/course-catalog/products/bootstrap-4-course\n",
            "\t\thttps://campus.w3schools.com/collections/course-catalog/products/bootstrap-course\n",
            "\t\thttps://campus.w3schools.com/collections/course-catalog/products/numpy-course\n",
            "\t\thttps://campus.w3schools.com/collections/course-catalog/products/pandas-course\n",
            "\t\thttps://campus.w3schools.com/collections/course-catalog/products/learn-typescript\n",
            "\t\thttps://campus.w3schools.com/collections/course-catalog/products/xml-course\n",
            "\t\thttps://campus.w3schools.com/collections/course-catalog/products/r-course\n",
            "\t\thttps://campus.w3schools.com/collections/course-catalog/products/data-analytics-program\n",
            "\t\thttps://campus.w3schools.com/collections/course-catalog/products/cyber-security-course\n",
            "\t\thttps://campus.w3schools.com/collections/course-catalog/products/accessibility-course\n",
            "\t\thttps://campus.w3schools.com/collections/certifications\n",
            "\t\thttps://campus.w3schools.com/collections/certifications/products/html-certificate\n",
            "\t\thttps://campus.w3schools.com/collections/certifications/products/css-certificate\n",
            "\t\thttps://campus.w3schools.com/collections/certifications/products/javascript-certificate\n",
            "\t\thttps://campus.w3schools.com/collections/certifications/products/front-end-certificate\n",
            "\t\thttps://campus.w3schools.com/collections/certifications/products/python-certificate\n",
            "\t\thttps://campus.w3schools.com/collections/certifications/products/sql-certificate\n",
            "\t\thttps://campus.w3schools.com/collections/certifications/products/php-certificate\n",
            "\t\thttps://campus.w3schools.com/collections/certifications/products/java-certificate\n",
            "\t\thttps://campus.w3schools.com/collections/certifications/products/c-certificate\n",
            "\t\thttps://campus.w3schools.com/collections/certifications/products/c-certificate-1\n",
            "\t\thttps://campus.w3schools.com/collections/certifications/products/jquery-certificate\n",
            "\t\thttps://campus.w3schools.com/collections/certifications/products/react-js-certificate\n",
            "\t\thttps://campus.w3schools.com/collections/certifications/products/mysql-certificate\n",
            "\t\thttps://campus.w3schools.com/collections/certifications/products/bootstrap-5-certificate\n",
            "\t\thttps://campus.w3schools.com/collections/certifications/products/bootstrap-4-certificate\n",
            "\t\thttps://campus.w3schools.com/collections/certifications/products/bootstrap-3-certificate\n",
            "\t\thttps://campus.w3schools.com/collections/certifications/products/typescript-certificate\n",
            "\t\thttps://campus.w3schools.com/collections/certifications/products/xml-certificate\n",
            "\t\thttps://campus.w3schools.com/collections/certifications/products/excel-certificate\n",
            "\t\thttps://campus.w3schools.com/collections/certifications/products/data-science-certificate\n",
            "\t\thttps://campus.w3schools.com/collections/certifications/products/cyber-security-certificate\n",
            "\t\thttps://campus.w3schools.com/collections/certifications/products/accessibility-certificate\n",
            "\t\thttps://shop.w3schools.com/collections/certifications/products/html-certificate\n",
            "\t\thttps://www.w3schools.com /html/tryit.asp?filename=tryhtml_default_default\n",
            "\t\thttps://shop.w3schools.com/collections/certifications/products/css-certificate\n",
            "\t\thttps://www.w3schools.com /css/tryit.asp?filename=trycss_default\n",
            "\t\thttps://shop.w3schools.com/collections/certifications/products/javascript-certificate\n",
            "\t\thttps://www.w3schools.com /js/tryit.asp?filename=tryjs_default\n",
            "\t\thttps://shop.w3schools.com/collections/certifications/products/python-certificate\n",
            "\t\thttps://www.w3schools.com /python/trypython.asp?filename=demo_indentation\n",
            "\t\thttps://shop.w3schools.com/collections/certifications/products/sql-certificate\n",
            "\t\thttps://www.w3schools.com /sql/trysql.asp?filename=trysql_select_where\n",
            "\t\thttps://www.w3schools.com /js/js_json.asp\n",
            "\t\thttps://www.w3schools.com /tryit/tryit.asp?filename=tryhtml_hello\n",
            "\t\thttps://www.w3schools.com /tryit/trycompiler.asp?filename=demo_python\n",
            "\t\thttps://profile.w3schools.com/sign-up?redirect_url=https%3A%2F%2Fmy-learning.w3schools.com%2F\n",
            "\t\thttps://www.w3schools.com/spaces/index.html\n",
            "\t\thttps://www.w3schools.com/videos/index.php\n",
            "\t\thttps://www.w3schools.com /colors/colors_picker.asp\n",
            "\t\thttps://support.w3schools.com\n",
            "\t\thttps://www.w3schools.com /forum/default.asp\n",
            "\t\thttps://www.w3schools.com /about/default.asp\n",
            "\t\thttps://discord.gg/6Z7UaRbUQM\n",
            "\t\thttps://www.linkedin.com/company/w3schools.com/\n",
            "\t\thttps://www.instagram.com/w3schools.com_official/\n",
            "\t\thttps://www.facebook.com/w3schoolscom/\n",
            "\t\thttps://www.w3schools.com /about/about_copyright.asp\n",
            "\t\thttps://www.w3schools.com /about/about_privacy.asp\n",
            "\thttps://www.w3schools.com/signup/index.html\n",
            "\t\thttps://www.w3schools.com/bootcamp/index.php\n",
            "\t\thttps://www.w3schools.com/pro/index.php\n",
            "\t\thttps://www.w3schools.com/html/default.asp\n",
            "\t\thttps://www.w3schools.com/css/default.asp\n",
            "\t\thttps://www.w3schools.com/css/css_rwd_intro.asp\n",
            "\t\thttps://www.w3schools.com/bootstrap/bootstrap_ver.asp\n",
            "\t\thttps://www.w3schools.com/w3css/default.asp\n",
            "\t\thttps://www.w3schools.com/colors/default.asp\n",
            "\t\thttps://www.w3schools.com/icons/default.asp\n",
            "\t\thttps://www.w3schools.com/graphics/default.asp\n",
            "\t\thttps://www.w3schools.com/graphics/svg_intro.asp\n",
            "\t\thttps://www.w3schools.com/graphics/canvas_intro.asp\n",
            "\t\thttps://www.w3schools.com/howto/default.asp\n",
            "\t\thttps://www.w3schools.com/sass/default.php\n",
            "\t\thttps://www.w3schools.com/ai/default.asp\n",
            "\t\thttps://www.w3schools.com/python/python_ml_getting_started.asp\n",
            "\t\thttps://www.w3schools.com/datascience/default.asp\n",
            "\t\thttps://www.w3schools.com/python/numpy/default.asp\n",
            "\t\thttps://www.w3schools.com/python/pandas/default.asp\n",
            "\t\thttps://www.w3schools.com/python/scipy/index.php\n",
            "\t\thttps://www.w3schools.com/python/matplotlib_intro.asp\n",
            "\t\thttps://www.w3schools.com/statistics/index.php\n",
            "\t\thttps://www.w3schools.com/excel/index.php\n",
            "\t\thttps://www.w3schools.com/googlesheets/index.php\n",
            "\t\thttps://www.w3schools.com/xml/default.asp\n",
            "\t\thttps://www.w3schools.com/xml/ajax_intro.asp\n",
            "\t\thttps://www.w3schools.com/xml/dom_intro.asp\n",
            "\t\thttps://www.w3schools.com/xml/xml_dtd_intro.asp\n",
            "\t\thttps://www.w3schools.com/xml/schema_intro.asp\n",
            "\t\thttps://www.w3schools.com/xml/xsl_intro.asp\n",
            "\t\thttps://www.w3schools.com/xml/xpath_intro.asp\n",
            "\t\thttps://www.w3schools.com/xml/xquery_intro.asp\n",
            "\t\thttps://www.w3schools.com/js/default.asp\n",
            "\t\thttps://www.w3schools.com/jquery/default.asp\n",
            "\t\thttps://www.w3schools.com/react/default.asp\n",
            "\t\thttps://www.w3schools.com/angular/default.asp\n",
            "\t\thttps://www.w3schools.com/js/js_json_intro.asp\n",
            "\t\thttps://www.w3schools.com/js/js_ajax_intro.asp\n",
            "\t\thttps://www.w3schools.com/appml/default.asp\n",
            "\t\thttps://www.w3schools.com/w3js/default.asp\n",
            "\t\thttps://www.w3schools.com/python/default.asp\n",
            "\t\thttps://www.w3schools.com/java/default.asp\n",
            "\t\thttps://www.w3schools.com/c/index.php\n",
            "\t\thttps://www.w3schools.com/cpp/default.asp\n",
            "\t\thttps://www.w3schools.com/cs/index.php\n",
            "\t\thttps://www.w3schools.com/r/default.asp\n",
            "\t\thttps://www.w3schools.com/kotlin/index.php\n",
            "\t\thttps://www.w3schools.com/go/index.php\n",
            "\t\thttps://www.w3schools.com/django/index.php\n",
            "\t\thttps://www.w3schools.com/typescript/index.php\n",
            "\t\thttps://www.w3schools.com/sql/default.asp\n",
            "\t\thttps://www.w3schools.com/mysql/default.asp\n",
            "\t\thttps://www.w3schools.com/php/default.asp\n",
            "\t\thttps://www.w3schools.com/asp/default.asp\n",
            "\t\thttps://www.w3schools.com/nodejs/default.asp\n",
            "\t\thttps://www.w3schools.com/nodejs/nodejs_raspberrypi.asp\n",
            "\t\thttps://www.w3schools.com/git/default.asp\n",
            "\t\thttps://www.w3schools.com/mongodb/index.php\n",
            "\t\thttps://www.w3schools.com/aws/index.php\n",
            "\t\thttps://www.w3schools.com/where_to_start.asp\n",
            "\t\thttps://www.w3schools.com/w3css/w3css_templates.asp\n",
            "\t\thttps://www.w3schools.com/browsers/default.asp\n",
            "\t\thttps://www.w3schools.com/cert/default.asp\n",
            "\t\thttps://www.w3schools.com/whatis/default.asp\n",
            "\t\thttps://www.w3schools.com/tryit/default.asp\n",
            "\t\thttps://www.w3schools.com/typingspeed/default.asp\n",
            "\t\thttps://www.w3schools.com/codegame/index.html\n",
            "\t\thttps://www.w3schools.com/cybersecurity/index.php\n",
            "\t\thttps://www.w3schools.com/accessibility/index.php\n",
            "\t\thttps://www.w3schools.com/tags/default.asp\n",
            "\t\thttps://www.w3schools.com/tags/ref_html_browsersupport.asp\n",
            "\t\thttps://www.w3schools.com/tags/ref_eventattributes.asp\n",
            "\t\thttps://www.w3schools.com/tags/ref_attributes.asp\n",
            "\t\thttps://www.w3schools.com/tags/ref_canvas.asp\n",
            "\t\thttps://www.w3schools.com/graphics/svg_reference.asp\n",
            "\t\thttps://www.w3schools.com/graphics/google_maps_reference.asp\n",
            "\t\thttps://www.w3schools.com/cssref/index.php\n",
            "\t\thttps://www.w3schools.com/cssref/css3_browsersupport.asp\n",
            "\t\thttps://www.w3schools.com/cssref/css_selectors.asp\n",
            "\t\thttps://www.w3schools.com/bootstrap/bootstrap_ref_all_classes.asp\n",
            "\t\thttps://www.w3schools.com/bootstrap4/bootstrap_ref_all_classes.asp\n",
            "\t\thttps://www.w3schools.com/w3css/w3css_references.asp\n",
            "\t\thttps://www.w3schools.com/icons/icons_reference.asp\n",
            "\t\thttps://www.w3schools.com/sass/sass_functions_string.php\n",
            "\t\thttps://www.w3schools.com/jsref/default.asp\n",
            "\t\thttps://www.w3schools.com/jquery/jquery_ref_overview.asp\n",
            "\t\thttps://www.w3schools.com/angular/angular_ref_directives.asp\n",
            "\t\thttps://www.w3schools.com/appml/appml_reference.asp\n",
            "\t\thttps://www.w3schools.com/w3js/w3js_references.asp\n",
            "\t\thttps://www.w3schools.com/python/python_reference.asp\n",
            "\t\thttps://www.w3schools.com/java/java_ref_keywords.asp\n",
            "\t\thttps://www.w3schools.com/sql/sql_ref_keywords.asp\n",
            "\t\thttps://www.w3schools.com/mysql/mysql_ref_functions.asp\n",
            "\t\thttps://www.w3schools.com/php/php_ref_overview.asp\n",
            "\t\thttps://www.w3schools.com/asp/asp_ref_response.asp\n",
            "\t\thttps://www.w3schools.com/xml/dom_nodetype.asp\n",
            "\t\thttps://www.w3schools.com/xml/dom_http.asp\n",
            "\t\thttps://www.w3schools.com/xml/xsl_elementref.asp\n",
            "\t\thttps://www.w3schools.com/xml/schema_elements_ref.asp\n",
            "\t\thttps://www.w3schools.com/charsets/default.asp\n",
            "\t\thttps://www.w3schools.com/charsets/ref_html_ascii.asp\n",
            "\t\thttps://www.w3schools.com/charsets/ref_html_ansi.asp\n",
            "\t\thttps://www.w3schools.com/charsets/ref_html_8859.asp\n",
            "\t\thttps://www.w3schools.com/charsets/ref_html_symbols.asp\n",
            "\t\thttps://www.w3schools.com/charsets/ref_html_utf8.asp\n",
            "\t\thttps://www.w3schools.com/exercises/index.php\n",
            "\t\thttps://www.w3schools.com/html/html_exercises.asp\n",
            "\t\thttps://www.w3schools.com/css/css_exercises.asp\n",
            "\t\thttps://www.w3schools.com/js/js_exercises.asp\n",
            "\t\thttps://www.w3schools.com/sql/sql_exercises.asp\n",
            "\t\thttps://www.w3schools.com/mysql/mysql_exercises.asp\n",
            "\t\thttps://www.w3schools.com/php/php_exercises.asp\n",
            "\t\thttps://www.w3schools.com/python/python_exercises.asp\n",
            "\t\thttps://www.w3schools.com/python/numpy/numpy_exercises.asp\n",
            "\t\thttps://www.w3schools.com/python/pandas/pandas_exercises.asp\n",
            "\t\thttps://www.w3schools.com/python/scipy/scipy_exercises.php\n",
            "\t\thttps://www.w3schools.com/jquery/jquery_exercises.asp\n",
            "\t\thttps://www.w3schools.com/java/java_exercises.asp\n",
            "\t\thttps://www.w3schools.com/cpp/cpp_exercises.asp\n",
            "\t\thttps://www.w3schools.com/cs/cs_exercises.asp\n",
            "\t\thttps://www.w3schools.com/r/r_exercises.asp\n",
            "\t\thttps://www.w3schools.com/kotlin/kotlin_exercises.php\n",
            "\t\thttps://www.w3schools.com/go/go_exercises.php\n",
            "\t\thttps://www.w3schools.com/bootstrap/bootstrap_exercises.asp\n",
            "\t\thttps://www.w3schools.com/bootstrap4/bootstrap_exercises.asp\n",
            "\t\thttps://www.w3schools.com/bootstrap5/bootstrap_exercises.php\n",
            "\t\thttps://www.w3schools.com/git/git_exercises.asp\n",
            "\t\thttps://www.w3schools.com/excel/excel_exercises.php\n",
            "\t\thttps://www.w3schools.com/quiztest/default.asp\n",
            "\t\thttps://www.w3schools.com/html/html_quiz.asp\n",
            "\t\thttps://www.w3schools.com/css/css_quiz.asp\n",
            "\t\thttps://www.w3schools.com/js/js_quiz.asp\n",
            "\t\thttps://www.w3schools.com/sql/sql_quiz.asp\n",
            "\t\thttps://www.w3schools.com/mysql/mysql_quiz.asp\n",
            "\t\thttps://www.w3schools.com/php/php_quiz.asp\n",
            "\t\thttps://www.w3schools.com/python/python_quiz.asp\n",
            "\t\thttps://www.w3schools.com/python/numpy/numpy_quiz.asp\n",
            "\t\thttps://www.w3schools.com/python/pandas/pandas_quiz.asp\n",
            "\t\thttps://www.w3schools.com/python/scipy/scipy_quiz.php\n",
            "\t\thttps://www.w3schools.com/jquery/jquery_quiz.asp\n",
            "\t\thttps://www.w3schools.com/java/java_quiz.asp\n",
            "\t\thttps://www.w3schools.com/cpp/cpp_quiz.asp\n",
            "\t\thttps://www.w3schools.com/cs/cs_quiz.asp\n",
            "\t\thttps://www.w3schools.com/r/r_quiz.asp\n",
            "\t\thttps://www.w3schools.com/kotlin/kotlin_quiz.php\n",
            "\t\thttps://www.w3schools.com/xml/xml_quiz.asp\n",
            "\t\thttps://www.w3schools.com/bootstrap/bootstrap_quiz.asp\n",
            "\t\thttps://www.w3schools.com/bootstrap4/bootstrap_quiz.asp\n",
            "\t\thttps://www.w3schools.com/bootstrap5/bootstrap_quiz.php\n",
            "\t\thttps://www.w3schools.com/cybersecurity/cybersecurity_quiz.php\n",
            "\t\thttps://www.w3schools.com/accessibility/accessibility_quiz.php\n",
            "\t\thttps://shop.w3schools.com/collections/course-catalog/products/html-course\n",
            "\t\thttps://shop.w3schools.com/collections/course-catalog/products/css-course\n",
            "\t\thttps://shop.w3schools.com/collections/course-catalog/products/javascript-course\n",
            "\t\thttps://shop.w3schools.com/collections/course-catalog/products/front-end-course\n",
            "\t\thttps://shop.w3schools.com/collections/course-catalog/products/sql-course\n",
            "\t\thttps://shop.w3schools.com/collections/course-catalog/products/php-course\n",
            "\t\thttps://shop.w3schools.com/collections/course-catalog/products/python-course\n",
            "\t\thttps://shop.w3schools.com/collections/course-catalog/products/numpy-course\n",
            "\t\thttps://shop.w3schools.com/collections/course-catalog/products/pandas-course\n",
            "\t\thttps://shop.w3schools.com/collections/course-catalog/products/data-analytics-program\n",
            "\t\thttps://shop.w3schools.com/collections/course-catalog/products/jquery-course\n",
            "\t\thttps://shop.w3schools.com/collections/course-catalog/products/java-course\n",
            "\t\thttps://shop.w3schools.com/collections/course-catalog/products/c-course-1\n",
            "\t\thttps://shop.w3schools.com/collections/course-catalog/products/c-course\n",
            "\t\thttps://shop.w3schools.com/collections/course-catalog/products/r-course\n",
            "\t\thttps://shop.w3schools.com/collections/course-catalog/products/react-js-course\n",
            "\t\thttps://shop.w3schools.com/collections/course-catalog/products/bootstrap-course\n",
            "\t\thttps://shop.w3schools.com/collections/course-catalog/products/bootstrap-4-course\n",
            "\t\thttps://shop.w3schools.com/collections/course-catalog/products/xml-course\n",
            "\t\thttps://shop.w3schools.com/collections/course-catalog/products/cyber-security-course\n",
            "\t\thttps://shop.w3schools.com/collections/course-catalog/products/accessibility-course\n",
            "\t\thttps://shop.w3schools.com/collections/certifications\n",
            "\t\thttps://shop.w3schools.com/collections/certifications/products/front-end-certificate\n",
            "\t\thttps://shop.w3schools.com/collections/certifications/products/php-certificate\n",
            "\t\thttps://shop.w3schools.com/collections/certifications/products/data-science-certificate\n",
            "\t\thttps://shop.w3schools.com/collections/certifications/products/bootstrap-3-certificate\n",
            "\t\thttps://shop.w3schools.com/collections/certifications/products/bootstrap-4-certificate\n",
            "\t\thttps://shop.w3schools.com/collections/certifications/products/bootstrap-5-certificate\n",
            "\t\thttps://shop.w3schools.com/collections/certifications/products/jquery-certificate\n",
            "\t\thttps://shop.w3schools.com/collections/certifications/products/java-certificate\n",
            "\t\thttps://shop.w3schools.com/collections/certifications/products/c-certificate\n",
            "\t\thttps://shop.w3schools.com/collections/certifications/products/c-certificate-1\n",
            "\t\thttps://shop.w3schools.com/collections/certifications/products/react-js-certificate\n",
            "\t\thttps://shop.w3schools.com/collections/certifications/products/typescript-certificate\n",
            "\t\thttps://shop.w3schools.com/collections/certifications/products/xml-certificate\n",
            "\t\thttps://shop.w3schools.com/collections/certifications/products/cyber-security-certificate\n",
            "\t\thttps://shop.w3schools.com/collections/certifications/products/accessibility-certificate\n",
            "\t\thttps://shop.w3schools.com/collections/certifications/products/excel-certificate\n",
            "\t\thttps://www.w3schools.com/spaces/\n",
            "\t\thttps://billing.w3schools.com/products/spaces?frequency=monthly&selectedPlan=pro-monthly\n",
            "\t\thttps://billing.w3schools.com/products/spaces?frequency=monthly&selectedPlan=premium-monthly\n",
            "\t\thttps://billing.w3schools.com/products/spaces?frequency=monthly&selectedPlan=diamond-monthly\n",
            "\t\thttps://support.w3schools.com/hc/en-gb/articles/4411122929553-How-do-I-do-bulk-enrolments\n",
            "\t\thttps://support.w3schools.com/hc/en-gb\n",
            "\t\thttps://www.w3schools.com/about/about_copyright.asp\n",
            "\t\thttps://www.w3schools.com/about/about_privacy.asp\n",
            "\thttps://www.w3schools.com/c/c_exercises.php\n",
            "\t\thttps://www.w3schools.com\n",
            "\t\thttps://www.w3schools.com/default.asp\n",
            "\t\thttps://www.w3schools.com/react/react_exercises.asp\n",
            "\t\thttps://www.w3schools.com/typescript/typescript_exercises.php\n",
            "\t\thttps://www.w3schools.com/mongodb/mongodb_exercises.php\n",
            "\t\thttps://www.w3schools.com/c/c_quiz.php\n",
            "\t\thttps://www.w3schools.com/react/react_quiz.asp\n",
            "\t\thttps://www.w3schools.com/typescript/typescript_quiz.php\n",
            "\t\thttps://www.w3schools.com/git/git_quiz.asp\n",
            "\t\thttps://www.w3schools.com/c/c_intro.php\n",
            "\t\thttps://www.w3schools.com/c/c_getstarted.php\n",
            "\t\thttps://www.w3schools.com/c/c_syntax.php\n",
            "\t\thttps://www.w3schools.com/c/c_output.php\n",
            "\t\thttps://www.w3schools.com/c/c_newline.php\n",
            "\t\thttps://www.w3schools.com/c/c_comments.php\n",
            "\t\thttps://www.w3schools.com/c/c_variables.php\n",
            "\t\thttps://www.w3schools.com/c/c_data_types.php\n",
            "\t\thttps://www.w3schools.com/c/c_type_conversion.php\n",
            "\t\thttps://www.w3schools.com/c/c_constants.php\n",
            "\t\thttps://www.w3schools.com/c/c_operators.php\n",
            "\t\thttps://www.w3schools.com/c/c_booleans.php\n",
            "\t\thttps://www.w3schools.com/c/c_conditions.php\n",
            "\t\thttps://www.w3schools.com/c/c_conditions_short_hand.php\n",
            "\t\thttps://www.w3schools.com/c/c_switch.php\n",
            "\t\thttps://www.w3schools.com/c/c_while_loop.php\n",
            "\t\thttps://www.w3schools.com/c/c_for_loop.php\n",
            "\t\thttps://www.w3schools.com/c/c_break_continue.php\n",
            "\t\thttps://www.w3schools.com/c/c_arrays.php\n",
            "\t\thttps://www.w3schools.com/c/c_arrays_multi.php\n",
            "\t\thttps://www.w3schools.com/c/c_strings.php\n",
            "\t\thttps://www.w3schools.com/c/c_strings_esc.php\n",
            "\t\thttps://www.w3schools.com/c/c_strings_functions.php\n",
            "\t\thttps://www.w3schools.com/c/c_user_input.php\n",
            "\t\thttps://www.w3schools.com/c/c_memory_address.php\n",
            "\t\thttps://www.w3schools.com/c/c_pointers.php\n",
            "\t\thttps://www.w3schools.com/c/c_pointers_arrays.php\n",
            "\t\thttps://www.w3schools.com/c/c_functions.php\n",
            "\t\thttps://www.w3schools.com/c/c_functions_parameters.php\n",
            "\t\thttps://www.w3schools.com/c/c_functions_decl.php\n",
            "\t\thttps://www.w3schools.com/c/c_functions_recursion.php\n",
            "\t\thttps://www.w3schools.com/c/c_math.php\n",
            "\t\thttps://www.w3schools.com/c/c_files.php\n",
            "\t\thttps://www.w3schools.com/c/c_files_write.php\n",
            "\t\thttps://www.w3schools.com/c/c_files_read.php\n",
            "\t\thttps://www.w3schools.com/c/c_structs.php\n",
            "\t\thttps://www.w3schools.com/c/c_enums.php\n",
            "\t\thttps://www.w3schools.com/c/c_examples.php\n",
            "\t\thttps://www.w3schools.com/c/c_compiler.php\n",
            "\t\thttps://www.w3schools.com/c/exercise.php?filename=exercise_syntax1\n",
            "\t\thttps://www.w3schools.com/colors/colors_picker.asp\n",
            "\t\thttps://www.w3schools.com/colors/colors_names.asp\n",
            "\t\thttps://www.w3schools.com/html/html_examples.asp\n",
            "\t\thttps://www.w3schools.com/css/css_examples.asp\n",
            "\t\thttps://www.w3schools.com/js/js_examples.asp\n",
            "\t\thttps://www.w3schools.com/sql/sql_examples.asp\n",
            "\t\thttps://www.w3schools.com/python/python_examples.asp\n",
            "\t\thttps://www.w3schools.com/w3css/w3css_examples.asp\n",
            "\t\thttps://www.w3schools.com/bootstrap/bootstrap_examples.asp\n",
            "\t\thttps://www.w3schools.com/php/php_examples.asp\n",
            "\t\thttps://www.w3schools.com/java/java_examples.asp\n",
            "\t\thttps://www.w3schools.com/xml/xml_examples.asp\n",
            "\t\thttps://www.w3schools.com/jquery/jquery_examples.asp\n",
            "\t\thttps://www.w3schools.com/forum/default.asp\n",
            "\t\thttps://www.w3schools.com/about/default.asp\n",
            "\thttps://www.w3schools.com/html/tryit.asp?filename=tryhtml_default_default\n",
            "\thttps://www.w3schools.com/css/tryit.asp?filename=trycss_default\n",
            "\thttps://www.w3schools.com/js/tryit.asp?filename=tryjs_default\n",
            "\thttps://www.w3schools.com/python/trypython.asp?filename=demo_indentation\n",
            "\thttps://www.w3schools.com/sql/trysql.asp?filename=trysql_select_where\n",
            "\thttps://www.w3schools.com/js/js_json.asp\n",
            "\t\thttps://www.w3schools.com/js/js_intro.asp\n",
            "\t\thttps://www.w3schools.com/js/js_whereto.asp\n",
            "\t\thttps://www.w3schools.com/js/js_output.asp\n",
            "\t\thttps://www.w3schools.com/js/js_statements.asp\n",
            "\t\thttps://www.w3schools.com/js/js_syntax.asp\n",
            "\t\thttps://www.w3schools.com/js/js_comments.asp\n",
            "\t\thttps://www.w3schools.com/js/js_variables.asp\n",
            "\t\thttps://www.w3schools.com/js/js_let.asp\n",
            "\t\thttps://www.w3schools.com/js/js_const.asp\n",
            "\t\thttps://www.w3schools.com/js/js_operators.asp\n",
            "\t\thttps://www.w3schools.com/js/js_arithmetic.asp\n",
            "\t\thttps://www.w3schools.com/js/js_assignment.asp\n",
            "\t\thttps://www.w3schools.com/js/js_datatypes.asp\n",
            "\t\thttps://www.w3schools.com/js/js_functions.asp\n",
            "\t\thttps://www.w3schools.com/js/js_objects.asp\n",
            "\t\thttps://www.w3schools.com/js/js_events.asp\n",
            "\t\thttps://www.w3schools.com/js/js_strings.asp\n",
            "\t\thttps://www.w3schools.com/js/js_string_methods.asp\n",
            "\t\thttps://www.w3schools.com/js/js_string_search.asp\n",
            "\t\thttps://www.w3schools.com/js/js_string_templates.asp\n",
            "\t\thttps://www.w3schools.com/js/js_numbers.asp\n",
            "\t\thttps://www.w3schools.com/js/js_bigint.asp\n",
            "\t\thttps://www.w3schools.com/js/js_number_methods.asp\n",
            "\t\thttps://www.w3schools.com/js/js_number_properties.asp\n",
            "\t\thttps://www.w3schools.com/js/js_arrays.asp\n",
            "\t\thttps://www.w3schools.com/js/js_array_methods.asp\n",
            "\t\thttps://www.w3schools.com/js/js_array_sort.asp\n",
            "\t\thttps://www.w3schools.com/js/js_array_iteration.asp\n",
            "\t\thttps://www.w3schools.com/js/js_array_const.asp\n",
            "\t\thttps://www.w3schools.com/js/js_dates.asp\n",
            "\t\thttps://www.w3schools.com/js/js_date_formats.asp\n",
            "\t\thttps://www.w3schools.com/js/js_date_methods.asp\n",
            "\t\thttps://www.w3schools.com/js/js_date_methods_set.asp\n",
            "\t\thttps://www.w3schools.com/js/js_math.asp\n",
            "\t\thttps://www.w3schools.com/js/js_random.asp\n",
            "\t\thttps://www.w3schools.com/js/js_booleans.asp\n",
            "\t\thttps://www.w3schools.com/js/js_comparisons.asp\n",
            "\t\thttps://www.w3schools.com/js/js_if_else.asp\n",
            "\t\thttps://www.w3schools.com/js/js_switch.asp\n",
            "\t\thttps://www.w3schools.com/js/js_loop_for.asp\n",
            "\t\thttps://www.w3schools.com/js/js_loop_forin.asp\n",
            "\t\thttps://www.w3schools.com/js/js_loop_forof.asp\n",
            "\t\thttps://www.w3schools.com/js/js_loop_while.asp\n",
            "\t\thttps://www.w3schools.com/js/js_break.asp\n",
            "\t\thttps://www.w3schools.com/js/js_iterables.asp\n",
            "\t\thttps://www.w3schools.com/js/js_sets.asp\n",
            "\t\thttps://www.w3schools.com/js/js_maps.asp\n",
            "\t\thttps://www.w3schools.com/js/js_typeof.asp\n",
            "\t\thttps://www.w3schools.com/js/js_type_conversion.asp\n",
            "\t\thttps://www.w3schools.com/js/js_bitwise.asp\n",
            "\t\thttps://www.w3schools.com/js/js_regexp.asp\n",
            "\t\thttps://www.w3schools.com/js/js_precedence.asp\n",
            "\t\thttps://www.w3schools.com/js/js_errors.asp\n",
            "\t\thttps://www.w3schools.com/js/js_scope.asp\n",
            "\t\thttps://www.w3schools.com/js/js_hoisting.asp\n",
            "\t\thttps://www.w3schools.com/js/js_strict.asp\n",
            "\t\thttps://www.w3schools.com/js/js_this.asp\n",
            "\t\thttps://www.w3schools.com/js/js_arrow_function.asp\n",
            "\t\thttps://www.w3schools.com/js/js_classes.asp\n",
            "\t\thttps://www.w3schools.com/js/js_modules.asp\n",
            "\t\thttps://www.w3schools.com/js/js_debugging.asp\n",
            "\t\thttps://www.w3schools.com/js/js_conventions.asp\n",
            "\t\thttps://www.w3schools.com/js/js_best_practices.asp\n",
            "\t\thttps://www.w3schools.com/js/js_mistakes.asp\n",
            "\t\thttps://www.w3schools.com/js/js_performance.asp\n",
            "\t\thttps://www.w3schools.com/js/js_reserved.asp\n",
            "\t\thttps://www.w3schools.com/js/js_versions.asp\n",
            "\t\thttps://www.w3schools.com/js/js_es5.asp\n",
            "\t\thttps://www.w3schools.com/js/js_es6.asp\n",
            "\t\thttps://www.w3schools.com/js/js_2016.asp\n",
            "\t\thttps://www.w3schools.com/js/js_2017.asp\n",
            "\t\thttps://www.w3schools.com/js/js_2018.asp\n",
            "\t\thttps://www.w3schools.com/js/js_2019.asp\n",
            "\t\thttps://www.w3schools.com/js/js_2020.asp\n",
            "\t\thttps://www.w3schools.com/js/js_2021.asp\n",
            "\t\thttps://www.w3schools.com/js/js_ie_edge.asp\n",
            "\t\thttps://www.w3schools.com/js/js_history.asp\n",
            "\t\thttps://www.w3schools.com/js/js_object_definition.asp\n",
            "\t\thttps://www.w3schools.com/js/js_object_properties.asp\n",
            "\t\thttps://www.w3schools.com/js/js_object_methods.asp\n",
            "\t\thttps://www.w3schools.com/js/js_object_display.asp\n",
            "\t\thttps://www.w3schools.com/js/js_object_accessors.asp\n",
            "\t\thttps://www.w3schools.com/js/js_object_constructors.asp\n",
            "\t\thttps://www.w3schools.com/js/js_object_prototypes.asp\n",
            "\t\thttps://www.w3schools.com/js/js_object_iterables.asp\n",
            "\t\thttps://www.w3schools.com/js/js_object_sets.asp\n",
            "\t\thttps://www.w3schools.com/js/js_object_maps.asp\n",
            "\t\thttps://www.w3schools.com/js/js_object_es5.asp\n",
            "\t\thttps://www.w3schools.com/js/js_function_definition.asp\n",
            "\t\thttps://www.w3schools.com/js/js_function_parameters.asp\n",
            "\t\thttps://www.w3schools.com/js/js_function_invocation.asp\n",
            "\t\thttps://www.w3schools.com/js/js_function_call.asp\n",
            "\t\thttps://www.w3schools.com/js/js_function_apply.asp\n",
            "\t\thttps://www.w3schools.com/js/js_function_bind.asp\n",
            "\t\thttps://www.w3schools.com/js/js_function_closures.asp\n",
            "\t\thttps://www.w3schools.com/js/js_class_intro.asp\n",
            "\t\thttps://www.w3schools.com/js/js_class_inheritance.asp\n",
            "\t\thttps://www.w3schools.com/js/js_class_static.asp\n",
            "\t\thttps://www.w3schools.com/js/js_callback.asp\n",
            "\t\thttps://www.w3schools.com/js/js_asynchronous.asp\n",
            "\t\thttps://www.w3schools.com/js/js_promise.asp\n",
            "\t\thttps://www.w3schools.com/js/js_async.asp\n",
            "\t\thttps://www.w3schools.com/js/js_htmldom.asp\n",
            "\t\thttps://www.w3schools.com/js/js_htmldom_methods.asp\n",
            "\t\thttps://www.w3schools.com/js/js_htmldom_document.asp\n",
            "\t\thttps://www.w3schools.com/js/js_htmldom_elements.asp\n",
            "\t\thttps://www.w3schools.com/js/js_htmldom_html.asp\n",
            "\t\thttps://www.w3schools.com/js/js_validation.asp\n",
            "\t\thttps://www.w3schools.com/js/js_htmldom_css.asp\n",
            "\t\thttps://www.w3schools.com/js/js_htmldom_animate.asp\n",
            "\t\thttps://www.w3schools.com/js/js_htmldom_events.asp\n",
            "\t\thttps://www.w3schools.com/js/js_htmldom_eventlistener.asp\n",
            "\t\thttps://www.w3schools.com/js/js_htmldom_navigation.asp\n",
            "\t\thttps://www.w3schools.com/js/js_htmldom_nodes.asp\n",
            "\t\thttps://www.w3schools.com/js/js_htmldom_collections.asp\n",
            "\t\thttps://www.w3schools.com/js/js_htmldom_nodelist.asp\n",
            "\t\thttps://www.w3schools.com/js/js_window.asp\n",
            "\t\thttps://www.w3schools.com/js/js_window_screen.asp\n",
            "\t\thttps://www.w3schools.com/js/js_window_location.asp\n",
            "\t\thttps://www.w3schools.com/js/js_window_history.asp\n",
            "\t\thttps://www.w3schools.com/js/js_window_navigator.asp\n",
            "\t\thttps://www.w3schools.com/js/js_popup.asp\n",
            "\t\thttps://www.w3schools.com/js/js_timing.asp\n",
            "\t\thttps://www.w3schools.com/js/js_cookies.asp\n",
            "\t\thttps://www.w3schools.com/js/js_api_intro.asp\n",
            "\t\thttps://www.w3schools.com/js/js_validation_api.asp\n",
            "\t\thttps://www.w3schools.com/js/js_api_history.asp\n",
            "\t\thttps://www.w3schools.com/js/js_api_web_storage.asp\n",
            "\t\thttps://www.w3schools.com/js/js_api_web_workers.asp\n",
            "\t\thttps://www.w3schools.com/js/js_api_fetch.asp\n",
            "\t\thttps://www.w3schools.com/js/js_api_geolocation.asp\n",
            "\t\thttps://www.w3schools.com/js/js_ajax_http.asp\n",
            "\t\thttps://www.w3schools.com/js/js_ajax_http_send.asp\n",
            "\t\thttps://www.w3schools.com/js/js_ajax_http_response.asp\n",
            "\t\thttps://www.w3schools.com/js/js_ajax_xmlfile.asp\n",
            "\t\thttps://www.w3schools.com/js/js_ajax_php.asp\n",
            "\t\thttps://www.w3schools.com/js/js_ajax_asp.asp\n",
            "\t\thttps://www.w3schools.com/js/js_ajax_database.asp\n",
            "\t\thttps://www.w3schools.com/js/js_ajax_applications.asp\n",
            "\t\thttps://www.w3schools.com/js/js_ajax_examples.asp\n",
            "\t\thttps://www.w3schools.com/js/js_json_syntax.asp\n",
            "\t\thttps://www.w3schools.com/js/js_json_xml.asp\n",
            "\t\thttps://www.w3schools.com/js/js_json_datatypes.asp\n",
            "\t\thttps://www.w3schools.com/js/js_json_parse.asp\n",
            "\t\thttps://www.w3schools.com/js/js_json_stringify.asp\n",
            "\t\thttps://www.w3schools.com/js/js_json_objects.asp\n",
            "\t\thttps://www.w3schools.com/js/js_json_arrays.asp\n",
            "\t\thttps://www.w3schools.com/js/js_json_server.asp\n",
            "\t\thttps://www.w3schools.com/js/js_json_php.asp\n",
            "\t\thttps://www.w3schools.com/js/js_json_html.asp\n",
            "\t\thttps://www.w3schools.com/js/js_json_jsonp.asp\n",
            "\t\thttps://www.w3schools.com/js/js_jquery_selectors.asp\n",
            "\t\thttps://www.w3schools.com/js/js_jquery_elements.asp\n",
            "\t\thttps://www.w3schools.com/js/js_jquery_css.asp\n",
            "\t\thttps://www.w3schools.com/js/js_jquery_dom.asp\n",
            "\t\thttps://www.w3schools.com/js/js_graphics.asp\n",
            "\t\thttps://www.w3schools.com/js/js_graphics_canvas.asp\n",
            "\t\thttps://www.w3schools.com/js/js_graphics_plotly.asp\n",
            "\t\thttps://www.w3schools.com/js/js_graphics_chartjs.asp\n",
            "\t\thttps://www.w3schools.com/js/js_graphics_google_chart.asp\n",
            "\t\thttps://www.w3schools.com/js/js_graphics_d3js.asp\n",
            "\t\thttps://www.w3schools.com/js/js_dom_examples.asp\n",
            "\t\thttps://www.w3schools.com/js/js_input_examples.asp\n",
            "\t\thttps://www.w3schools.com/js/js_ex_dom.asp\n",
            "\t\thttps://www.w3schools.com/js/js_events_examples.asp\n",
            "\t\thttps://www.w3schools.com/js/js_ex_browser.asp\n",
            "\t\thttps://www.w3schools.com/js/js_editor.asp\n",
            "\t\thttps://www.w3schools.com/js/js_exam.asp\n",
            "\t\thttps://www.w3schools.com/js/tryit.asp?filename=tryjs_json_parse\n",
            "\thttps://www.w3schools.com/tryit/tryit.asp?filename=tryhtml_hello\n",
            "\thttps://www.w3schools.com/tryit/trycompiler.asp?filename=demo_python\n"
          ]
        }
      ]
    },
    {
      "cell_type": "markdown",
      "source": [
        "Question 8"
      ],
      "metadata": {
        "id": "RljSUYH6oYLb"
      }
    },
    {
      "cell_type": "code",
      "source": [
        "import sqlite3"
      ],
      "metadata": {
        "id": "dUdBIFCbofjd"
      },
      "execution_count": 48,
      "outputs": []
    },
    {
      "cell_type": "code",
      "source": [
        "# create a new database called global.db\n",
        "connection = sqlite3.connect('global.db')\n",
        "cursor= connection.cursor()"
      ],
      "metadata": {
        "id": "RO1os2aul3j6"
      },
      "execution_count": 49,
      "outputs": []
    },
    {
      "cell_type": "code",
      "source": [
        "# create new table called Region\n",
        "cursor.execute('''\n",
        "CREATE TABLE Region (\n",
        "  City text, \n",
        "  Country text, \n",
        "  Season text, \n",
        "  Temperature real, \n",
        "  Rainfall real)''')"
      ],
      "metadata": {
        "colab": {
          "base_uri": "https://localhost:8080/"
        },
        "id": "A5JfKKraooHT",
        "outputId": "4b81614a-3316-4e59-ad89-ef4ae40bec99"
      },
      "execution_count": 50,
      "outputs": [
        {
          "output_type": "execute_result",
          "data": {
            "text/plain": [
              "<sqlite3.Cursor at 0x7f966ffc2500>"
            ]
          },
          "metadata": {},
          "execution_count": 50
        }
      ]
    },
    {
      "cell_type": "code",
      "source": [
        "#insert data to table region\n",
        "cursor.execute(\"INSERT INTO Region VALUES ('Mumbai','India','Winter',24.8,5.9)\")\n",
        "cursor.execute(\"INSERT INTO Region VALUES ('Mumbai','India','Spring',28.4,16.2)\")\n",
        "cursor.execute(\"INSERT INTO Region VALUES ('Mumbai','India','Summer',27.9,1549.4)\")\n",
        "cursor.execute(\"INSERT INTO Region VALUES ('Mumbai','India','Fall',27.6,346.0)\")\n",
        "cursor.execute(\"INSERT INTO Region VALUES ('London','United Kingdom','Winter',4.2,207.7)\")\n",
        "cursor.execute(\"INSERT INTO Region VALUES ('London','United Kingdom','Spring',8.3,169.6)\")\n",
        "cursor.execute(\"INSERT INTO Region VALUES ('London','United Kingdom','Summer',15.7,157.0)\")\n",
        "cursor.execute(\"INSERT INTO Region VALUES ('London','United Kingdom','Fall',10.4,218.5)\")\n",
        "cursor.execute(\"INSERT INTO Region VALUES ('Cairo','Egypt','Winter',13.6,16.5)\")\n",
        "cursor.execute(\"INSERT INTO Region VALUES ('Cairo','Egypt','Spring',20.7,6.5)\")\n",
        "cursor.execute(\"INSERT INTO Region VALUES ('Cairo','Egypt','Summer',27.7,0.1)\")\n",
        "cursor.execute(\"INSERT INTO Region VALUES ('Cairo','Egypt','Fall',22.2,4.5)\")"
      ],
      "metadata": {
        "colab": {
          "base_uri": "https://localhost:8080/"
        },
        "id": "0PYF2Yz2o4Lc",
        "outputId": "39e01898-99b0-4ec9-a76f-ef900884ad0f"
      },
      "execution_count": 52,
      "outputs": [
        {
          "output_type": "execute_result",
          "data": {
            "text/plain": [
              "<sqlite3.Cursor at 0x7f966ffc2500>"
            ]
          },
          "metadata": {},
          "execution_count": 52
        }
      ]
    },
    {
      "cell_type": "code",
      "source": [
        "#retrieve data from table region\n",
        "cursor.execute(\"SELECT * FROM Region\")\n",
        "cursor.fetchall()"
      ],
      "metadata": {
        "colab": {
          "base_uri": "https://localhost:8080/"
        },
        "id": "o8o7ZS36qA0L",
        "outputId": "515a6cfa-ba72-4dc0-8483-3daef80c7671"
      },
      "execution_count": 53,
      "outputs": [
        {
          "output_type": "execute_result",
          "data": {
            "text/plain": [
              "[('Mumbai', 'India', 'Winter', 24.8, 5.9),\n",
              " ('Mumbai', 'India', 'Spring', 28.4, 16.2),\n",
              " ('Mumbai', 'India', 'Summer', 27.9, 1549.4),\n",
              " ('Mumbai', 'India', 'Fall', 27.6, 346.0),\n",
              " ('London', 'United Kingdom', 'Winter', 4.2, 207.7),\n",
              " ('London', 'United Kingdom', 'Spring', 8.3, 169.6),\n",
              " ('London', 'United Kingdom', 'Summer', 15.7, 157.0),\n",
              " ('London', 'United Kingdom', 'Fall', 10.4, 218.5),\n",
              " ('Cairo', 'Egypt', 'Winter', 13.6, 16.5),\n",
              " ('Cairo', 'Egypt', 'Spring', 20.7, 6.5),\n",
              " ('Cairo', 'Egypt', 'Summer', 27.7, 0.1),\n",
              " ('Cairo', 'Egypt', 'Fall', 22.2, 4.5)]"
            ]
          },
          "metadata": {},
          "execution_count": 53
        }
      ]
    },
    {
      "cell_type": "code",
      "source": [
        "#Part a\n",
        "cursor.execute(\"SELECT Temperature FROM Region\")\n",
        "cursor.fetchall()"
      ],
      "metadata": {
        "colab": {
          "base_uri": "https://localhost:8080/"
        },
        "id": "u-w4DRF4qWtD",
        "outputId": "d2f29e26-8db1-4170-c442-a7ebd3ee5a1f"
      },
      "execution_count": 54,
      "outputs": [
        {
          "output_type": "execute_result",
          "data": {
            "text/plain": [
              "[(24.8,),\n",
              " (28.4,),\n",
              " (27.9,),\n",
              " (27.6,),\n",
              " (4.2,),\n",
              " (8.3,),\n",
              " (15.7,),\n",
              " (10.4,),\n",
              " (13.6,),\n",
              " (20.7,),\n",
              " (27.7,),\n",
              " (22.2,)]"
            ]
          },
          "metadata": {},
          "execution_count": 54
        }
      ]
    },
    {
      "cell_type": "code",
      "source": [
        "#Part b\n",
        "cursor.execute(\"SELECT DISTINCT City FROM Region\")\n",
        "cursor.fetchall()"
      ],
      "metadata": {
        "colab": {
          "base_uri": "https://localhost:8080/"
        },
        "id": "uHqFggdaqdB3",
        "outputId": "6a1a6fb0-b636-486c-a626-5d9b995a5594"
      },
      "execution_count": 56,
      "outputs": [
        {
          "output_type": "execute_result",
          "data": {
            "text/plain": [
              "[('Mumbai',), ('London',), ('Cairo',)]"
            ]
          },
          "metadata": {},
          "execution_count": 56
        }
      ]
    },
    {
      "cell_type": "code",
      "source": [
        "#Part c\n",
        "cursor.execute(\"SELECT * FROM Region WHERE Country = 'India'\")\n",
        "cursor.fetchall()"
      ],
      "metadata": {
        "colab": {
          "base_uri": "https://localhost:8080/"
        },
        "id": "QstEw5YEqnuA",
        "outputId": "66f707cd-0419-4102-dc9d-f10af5dc1ae5"
      },
      "execution_count": 57,
      "outputs": [
        {
          "output_type": "execute_result",
          "data": {
            "text/plain": [
              "[('Mumbai', 'India', 'Winter', 24.8, 5.9),\n",
              " ('Mumbai', 'India', 'Spring', 28.4, 16.2),\n",
              " ('Mumbai', 'India', 'Summer', 27.9, 1549.4),\n",
              " ('Mumbai', 'India', 'Fall', 27.6, 346.0)]"
            ]
          },
          "metadata": {},
          "execution_count": 57
        }
      ]
    },
    {
      "cell_type": "code",
      "source": [
        "#Part d\n",
        "cursor.execute(\"SELECT * FROM Region WHERE Season = 'Fall'\")\n",
        "cursor.fetchall()"
      ],
      "metadata": {
        "colab": {
          "base_uri": "https://localhost:8080/"
        },
        "id": "8QDXs3LHqwZd",
        "outputId": "a5f24f95-6dca-4b76-d8dc-22a521f6aafb"
      },
      "execution_count": 58,
      "outputs": [
        {
          "output_type": "execute_result",
          "data": {
            "text/plain": [
              "[('Mumbai', 'India', 'Fall', 27.6, 346.0),\n",
              " ('London', 'United Kingdom', 'Fall', 10.4, 218.5),\n",
              " ('Cairo', 'Egypt', 'Fall', 22.2, 4.5)]"
            ]
          },
          "metadata": {},
          "execution_count": 58
        }
      ]
    },
    {
      "cell_type": "code",
      "source": [
        "#Part e\n",
        "cursor.execute(\"SELECT City,Country,Season FROM Region WHERE (Rainfall>200 AND Rainfall<400)\")\n",
        "cursor.fetchall()"
      ],
      "metadata": {
        "colab": {
          "base_uri": "https://localhost:8080/"
        },
        "id": "0Acjuk-Yq4ep",
        "outputId": "abc7ff1e-69d1-452e-ff09-54bea4aa3154"
      },
      "execution_count": 59,
      "outputs": [
        {
          "output_type": "execute_result",
          "data": {
            "text/plain": [
              "[('Mumbai', 'India', 'Fall'),\n",
              " ('London', 'United Kingdom', 'Winter'),\n",
              " ('London', 'United Kingdom', 'Fall')]"
            ]
          },
          "metadata": {},
          "execution_count": 59
        }
      ]
    },
    {
      "cell_type": "code",
      "source": [
        "#Part f\n",
        "cursor.execute(\"SELECT City,Country FROM Region WHERE Temperature>20 ORDER BY Temperature\")\n",
        "cursor.fetchall()"
      ],
      "metadata": {
        "colab": {
          "base_uri": "https://localhost:8080/"
        },
        "id": "1Wgi0D1drBcC",
        "outputId": "931ec905-1393-40a5-d34b-11d6db6df777"
      },
      "execution_count": 60,
      "outputs": [
        {
          "output_type": "execute_result",
          "data": {
            "text/plain": [
              "[('Cairo', 'Egypt'),\n",
              " ('Cairo', 'Egypt'),\n",
              " ('Mumbai', 'India'),\n",
              " ('Mumbai', 'India'),\n",
              " ('Cairo', 'Egypt'),\n",
              " ('Mumbai', 'India'),\n",
              " ('Mumbai', 'India')]"
            ]
          },
          "metadata": {},
          "execution_count": 60
        }
      ]
    },
    {
      "cell_type": "code",
      "source": [
        "#Part g\n",
        "cursor.execute(\"SELECT SUM(Rainfall) FROM Region WHERE City = 'Cairo'\")\n",
        "cursor.fetchall()"
      ],
      "metadata": {
        "colab": {
          "base_uri": "https://localhost:8080/"
        },
        "id": "iLhEphoDrKY9",
        "outputId": "23441509-8ac8-4ff5-eeb5-b4e4ae0c2737"
      },
      "execution_count": 62,
      "outputs": [
        {
          "output_type": "execute_result",
          "data": {
            "text/plain": [
              "[(27.6,)]"
            ]
          },
          "metadata": {},
          "execution_count": 62
        }
      ]
    },
    {
      "cell_type": "code",
      "source": [
        "#Part i\n",
        "cursor.execute(\"SELECT Season,SUM(Rainfall) FROM Region GROUP BY Season\")\n",
        "cursor.fetchall()"
      ],
      "metadata": {
        "colab": {
          "base_uri": "https://localhost:8080/"
        },
        "id": "9W99QNRjrThZ",
        "outputId": "0684fdba-816d-4b11-e4f8-5cc6038f500c"
      },
      "execution_count": 64,
      "outputs": [
        {
          "output_type": "execute_result",
          "data": {
            "text/plain": [
              "[('Fall', 569.0),\n",
              " ('Spring', 192.29999999999998),\n",
              " ('Summer', 1706.5),\n",
              " ('Winter', 230.1)]"
            ]
          },
          "metadata": {},
          "execution_count": 64
        }
      ]
    },
    {
      "cell_type": "markdown",
      "source": [
        "Question 9"
      ],
      "metadata": {
        "id": "F-nzL_OareL1"
      }
    },
    {
      "cell_type": "code",
      "source": [
        "words = ['The', 'quick', 'brown', 'fox', 'jumps', 'over', 'the', 'lazy', 'dog']"
      ],
      "metadata": {
        "id": "b9hSlLFnrfol"
      },
      "execution_count": 66,
      "outputs": []
    },
    {
      "cell_type": "code",
      "source": [
        "#Part a\n",
        "[w.upper() for w in words]"
      ],
      "metadata": {
        "colab": {
          "base_uri": "https://localhost:8080/"
        },
        "id": "7Xqd1yAIr9kS",
        "outputId": "7bee3dd2-d5fd-4653-a4c4-e5b20965a8ad"
      },
      "execution_count": 67,
      "outputs": [
        {
          "output_type": "execute_result",
          "data": {
            "text/plain": [
              "['THE', 'QUICK', 'BROWN', 'FOX', 'JUMPS', 'OVER', 'THE', 'LAZY', 'DOG']"
            ]
          },
          "metadata": {},
          "execution_count": 67
        }
      ]
    },
    {
      "cell_type": "code",
      "source": [
        "#Part b\n",
        "[w.lower() for w in words]"
      ],
      "metadata": {
        "colab": {
          "base_uri": "https://localhost:8080/"
        },
        "id": "IqyafVeRsFSr",
        "outputId": "58d8c7f5-9050-421f-cd0e-4bf6f3cd13c0"
      },
      "execution_count": 68,
      "outputs": [
        {
          "output_type": "execute_result",
          "data": {
            "text/plain": [
              "['the', 'quick', 'brown', 'fox', 'jumps', 'over', 'the', 'lazy', 'dog']"
            ]
          },
          "metadata": {},
          "execution_count": 68
        }
      ]
    },
    {
      "cell_type": "code",
      "source": [
        "#Part c\n",
        "[w.lower() for w in words]"
      ],
      "metadata": {
        "colab": {
          "base_uri": "https://localhost:8080/"
        },
        "id": "ujik5a_TsMMm",
        "outputId": "796d9a1b-3e0a-4dc1-9cd4-6b3f9c9890d7"
      },
      "execution_count": 69,
      "outputs": [
        {
          "output_type": "execute_result",
          "data": {
            "text/plain": [
              "['the', 'quick', 'brown', 'fox', 'jumps', 'over', 'the', 'lazy', 'dog']"
            ]
          },
          "metadata": {},
          "execution_count": 69
        }
      ]
    },
    {
      "cell_type": "code",
      "source": [
        "#Part d\n",
        "[[w.upper(),w.lower(),len(w)]  for w in words]"
      ],
      "metadata": {
        "colab": {
          "base_uri": "https://localhost:8080/"
        },
        "id": "x8JsnZtzsSK5",
        "outputId": "ebdbf6d0-f0cc-4402-e05d-4f54ed2551b9"
      },
      "execution_count": 70,
      "outputs": [
        {
          "output_type": "execute_result",
          "data": {
            "text/plain": [
              "[['THE', 'the', 3],\n",
              " ['QUICK', 'quick', 5],\n",
              " ['BROWN', 'brown', 5],\n",
              " ['FOX', 'fox', 3],\n",
              " ['JUMPS', 'jumps', 5],\n",
              " ['OVER', 'over', 4],\n",
              " ['THE', 'the', 3],\n",
              " ['LAZY', 'lazy', 4],\n",
              " ['DOG', 'dog', 3]]"
            ]
          },
          "metadata": {},
          "execution_count": 70
        }
      ]
    },
    {
      "cell_type": "code",
      "source": [
        "#Part e\n",
        "[w for w in words if (len(w)>=4)]"
      ],
      "metadata": {
        "colab": {
          "base_uri": "https://localhost:8080/"
        },
        "id": "3PM4_ZkTsZDC",
        "outputId": "fbdf06b9-461b-42cb-87d7-14ad53f76bc8"
      },
      "execution_count": 71,
      "outputs": [
        {
          "output_type": "execute_result",
          "data": {
            "text/plain": [
              "['quick', 'brown', 'jumps', 'over', 'lazy']"
            ]
          },
          "metadata": {},
          "execution_count": 71
        }
      ]
    }
  ]
}